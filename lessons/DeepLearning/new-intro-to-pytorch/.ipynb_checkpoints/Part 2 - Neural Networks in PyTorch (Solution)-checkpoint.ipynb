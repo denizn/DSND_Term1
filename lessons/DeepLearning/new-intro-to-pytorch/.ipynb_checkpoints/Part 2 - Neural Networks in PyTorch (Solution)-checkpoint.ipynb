{
 "cells": [
  {
   "cell_type": "markdown",
   "metadata": {},
   "source": [
    "# Neural networks with PyTorch\n",
    "\n",
    "Deep learning networks tend to be massive with dozens or hundreds of layers, that's where the term \"deep\" comes from. You can build one of these deep networks using only weight matrices as we did in the previous notebook, but in general it's very cumbersome and difficult to implement. PyTorch has a nice module `nn` that provides a nice way to efficiently build large neural networks."
   ]
  },
  {
   "cell_type": "code",
   "execution_count": 1,
   "metadata": {},
   "outputs": [],
   "source": [
    "# Import necessary packages\n",
    "\n",
    "%matplotlib inline\n",
    "%config InlineBackend.figure_format = 'retina'\n",
    "\n",
    "import numpy as np\n",
    "import torch\n",
    "\n",
    "import helper\n",
    "\n",
    "import matplotlib.pyplot as plt"
   ]
  },
  {
   "cell_type": "markdown",
   "metadata": {},
   "source": [
    "\n",
    "Now we're going to build a larger network that can solve a (formerly) difficult problem, identifying text in an image. Here we'll use the MNIST dataset which consists of greyscale handwritten digits. Each image is 28x28 pixels, you can see a sample below\n",
    "\n",
    "<img src='assets/mnist.png'>\n",
    "\n",
    "Our goal is to build a neural network that can take one of these images and predict the digit in the image.\n",
    "\n",
    "First up, we need to get our dataset. This is provided through the `torchvision` package. The code below will download the MNIST dataset, then create training and test datasets for us. Don't worry too much about the details here, you'll learn more about this later."
   ]
  },
  {
   "cell_type": "code",
   "execution_count": 2,
   "metadata": {},
   "outputs": [],
   "source": [
    "### Run this cell\n",
    "\n",
    "from torchvision import datasets, transforms\n",
    "\n",
    "# Define a transform to normalize the data\n",
    "transform = transforms.Compose([transforms.ToTensor(),\n",
    "                              transforms.Normalize((0.5,), (0.5,)),\n",
    "                              ])\n",
    "# Download and load the training data\n",
    "trainset = datasets.MNIST('~/.pytorch/MNIST_data/', download=True, train=True, transform=transform)\n",
    "trainloader = torch.utils.data.DataLoader(trainset, batch_size=64, shuffle=True)"
   ]
  },
  {
   "cell_type": "markdown",
   "metadata": {},
   "source": [
    "We have the training data loaded into `trainloader` and we make that an iterator with `iter(trainloader)`. Later, we'll use this to loop through the dataset for training, like\n",
    "\n",
    "```python\n",
    "for image, label in trainloader:\n",
    "    ## do things with images and labels\n",
    "```\n",
    "\n",
    "You'll notice I created the `trainloader` with a batch size of 64, and `shuffle=True`. The batch size is the number of images we get in one iteration from the data loader and pass through our network, often called a *batch*. And `shuffle=True` tells it to shuffle the dataset every time we start going through the data loader again. But here I'm just grabbing the first batch so we can check out the data. We can see below that `images` is just a tensor with size `(64, 1, 28, 28)`. So, 64 images per batch, 1 color channel, and 28x28 images."
   ]
  },
  {
   "cell_type": "code",
   "execution_count": 3,
   "metadata": {},
   "outputs": [
    {
     "name": "stdout",
     "output_type": "stream",
     "text": [
      "<class 'torch.Tensor'>\n",
      "torch.Size([64, 1, 28, 28])\n",
      "torch.Size([64])\n"
     ]
    }
   ],
   "source": [
    "dataiter = iter(trainloader)\n",
    "images, labels = dataiter.next()\n",
    "print(type(images))\n",
    "print(images.shape)\n",
    "print(labels.shape)"
   ]
  },
  {
   "cell_type": "markdown",
   "metadata": {},
   "source": [
    "This is what one of the images looks like. "
   ]
  },
  {
   "cell_type": "code",
   "execution_count": 4,
   "metadata": {},
   "outputs": [
    {
     "data": {
      "image/png": "[encoded data removed]",
      "text/plain": [
       "<Figure size 432x288 with 1 Axes>"
      ]
     },
     "metadata": {
      "image/png": {
       "height": 250,
       "width": 253
      },
      "needs_background": "light"
     },
     "output_type": "display_data"
    }
   ],
   "source": [
    "plt.imshow(images[1].numpy().squeeze(), cmap='Greys_r');"
   ]
  },
  {
   "cell_type": "markdown",
   "metadata": {},
   "source": [
    "First, let's try to build a simple network for this dataset using weight matrices and matrix multiplications. Then, we'll see how to do it using PyTorch's `nn` module which provides a much more convenient and powerful method for defining network architectures.\n",
    "\n",
    "The networks you've seen so far are called *fully-connected* or *dense* networks. Each unit in one layer is connected to each unit in the next layer. In fully-connected networks, the input to each layer must be a one-dimensional vector (which can be stacked into a 2D tensor as a batch of multiple examples). However, our images are 28x28 2D tensors, so we need to convert them into 1D vectors. Thinking about sizes, we need to convert the batch of images with shape `(64, 1, 28, 28)` to a have a shape of `(64, 784)`, 784 is 28 times 28. This is typically called *flattening*, we flattened the 2D images into 1D vectors.\n",
    "\n",
    "Previously you built a network with one output unit. Here we need 10 output units, one for each digit. We want our network to predict the digit shown in an image, so what we'll do is calculate probabilities that the image is of any one digit or class. This ends up being a discrete probability distribution over the classes (digits) that tells us the most likely class for the image. That means we need 10 output units for the 10 classes (digits). We'll see how to convert the network output into a probability distribution next.\n",
    "\n",
    "> **Exercise:** Flatten the batch of images `images`. Then build a multi-layer network with 784 input units, 256 hidden units, and 10 output units using random tensors for the weights and biases. For now, use a sigmoid activation for the hidden layer. Leave the output layer without an activation, we'll add one that gives us a probability distribution next."
   ]
  },
  {
   "cell_type": "code",
   "execution_count": 5,
   "metadata": {},
   "outputs": [],
   "source": [
    "## Solution\n",
    "def activation(x):\n",
    "    return 1/(1+torch.exp(-x))\n",
    "\n",
    "# Flatten the input images\n",
    "inputs = images.view(images.shape[0], -1)\n",
    "\n",
    "# Create parameters\n",
    "w1 = torch.randn(784, 256)\n",
    "b1 = torch.randn(256)\n",
    "\n",
    "w2 = torch.randn(256, 10)\n",
    "b2 = torch.randn(10)\n",
    "\n",
    "h = activation(torch.mm(inputs, w1) + b1)\n",
    "\n",
    "out = torch.mm(h, w2) + b2"
   ]
  },
  {
   "cell_type": "markdown",
   "metadata": {},
   "source": [
    "Now we have 10 outputs for our network. We want to pass in an image to our network and get out a probability distribution over the classes that tells us the likely class(es) the image belongs to. Something that looks like this:\n",
    "<img src='assets/image_distribution.png' width=500px>\n",
    "\n",
    "Here we see that the probability for each class is roughly the same. This is representing an untrained network, it hasn't seen any data yet so it just returns a uniform distribution with equal probabilities for each class.\n",
    "\n",
    "To calculate this probability distribution, we often use the [**softmax** function](https://en.wikipedia.org/wiki/Softmax_function). Mathematically this looks like\n",
    "\n",
    "$$\n",
    "\\Large \\sigma(x_i) = \\cfrac{e^{x_i}}{\\sum_k^K{e^{x_k}}}\n",
    "$$\n",
    "\n",
    "What this does is squish each input $x_i$ between 0 and 1 and normalizes the values to give you a proper probability distribution where the probabilites sum up to one.\n",
    "\n",
    "> **Exercise:** Implement a function `softmax` that performs the softmax calculation and returns probability distributions for each example in the batch. Note that you'll need to pay attention to the shapes when doing this. If you have a tensor `a` with shape `(64, 10)` and a tensor `b` with shape `(64,)`, doing `a/b` will give you an error because PyTorch will try to do the division across the columns (called broadcasting) but you'll get a size mismatch. The way to think about this is for each of the 64 examples, you only want to divide by one value, the sum in the denominator. So you need `b` to have a shape of `(64, 1)`. This way PyTorch will divide the 10 values in each row of `a` by the one value in each row of `b`. Pay attention to how you take the sum as well. You'll need to define the `dim` keyword in `torch.sum`. Setting `dim=0` takes the sum across the rows while `dim=1` takes the sum across the columns."
   ]
  },
  {
   "cell_type": "code",
   "execution_count": 6,
   "metadata": {},
   "outputs": [
    {
     "name": "stdout",
     "output_type": "stream",
     "text": [
      "torch.Size([64, 10])\n",
      "tensor([1.0000, 1.0000, 1.0000, 1.0000, 1.0000, 1.0000, 1.0000, 1.0000, 1.0000,\n",
      "        1.0000, 1.0000, 1.0000, 1.0000, 1.0000, 1.0000, 1.0000, 1.0000, 1.0000,\n",
      "        1.0000, 1.0000, 1.0000, 1.0000, 1.0000, 1.0000, 1.0000, 1.0000, 1.0000,\n",
      "        1.0000, 1.0000, 1.0000, 1.0000, 1.0000, 1.0000, 1.0000, 1.0000, 1.0000,\n",
      "        1.0000, 1.0000, 1.0000, 1.0000, 1.0000, 1.0000, 1.0000, 1.0000, 1.0000,\n",
      "        1.0000, 1.0000, 1.0000, 1.0000, 1.0000, 1.0000, 1.0000, 1.0000, 1.0000,\n",
      "        1.0000, 1.0000, 1.0000, 1.0000, 1.0000, 1.0000, 1.0000, 1.0000, 1.0000,\n",
      "        1.0000])\n"
     ]
    }
   ],
   "source": [
    "## Solution\n",
    "def softmax(x):\n",
    "    return torch.exp(x)/torch.sum(torch.exp(x), dim=1).view(-1, 1)\n",
    "\n",
    "probabilities = softmax(out)\n",
    "\n",
    "# Does it have the right shape? Should be (64, 10)\n",
    "print(probabilities.shape)\n",
    "# Does it sum to 1?\n",
    "print(probabilities.sum(dim=1))"
   ]
  },
  {
   "cell_type": "code",
   "execution_count": 7,
   "metadata": {},
   "outputs": [
    {
     "data": {
      "text/plain": [
       "tensor([[1.6336e-09, 4.8806e-14, 3.0937e-05, 6.0624e-11, 1.7494e-10, 1.8402e-05,\n",
       "         9.9992e-01, 4.2787e-11, 1.3316e-09, 3.0313e-05],\n",
       "        [2.2354e-07, 1.2966e-11, 2.5545e-02, 3.3164e-08, 2.7505e-07, 4.7405e-08,\n",
       "         1.3732e-03, 2.1085e-04, 4.1844e-08, 9.7287e-01],\n",
       "        [1.6734e-06, 3.1989e-13, 8.0268e-05, 1.9725e-07, 5.3318e-06, 1.8542e-10,\n",
       "         2.4528e-07, 6.7168e-08, 1.0274e-10, 9.9991e-01],\n",
       "        [1.4882e-03, 1.3351e-06, 7.8707e-03, 8.2478e-03, 5.3301e-07, 1.2756e-05,\n",
       "         1.0340e-02, 6.3454e-06, 2.8062e-03, 9.6923e-01],\n",
       "        [3.2649e-05, 5.1951e-13, 3.8193e-03, 2.4225e-03, 9.8413e-09, 1.1510e-06,\n",
       "         4.7269e-05, 3.8046e-07, 2.3316e-10, 9.9368e-01],\n",
       "        [9.6227e-01, 6.0636e-10, 3.4470e-04, 7.3651e-07, 1.3233e-08, 4.0988e-04,\n",
       "         2.3869e-02, 1.8421e-07, 2.5947e-05, 1.3076e-02],\n",
       "        [1.9814e-03, 2.1309e-06, 4.9071e-03, 8.7890e-03, 9.9182e-03, 1.4889e-04,\n",
       "         8.5919e-01, 7.3049e-02, 4.4677e-05, 4.1975e-02],\n",
       "        [2.0421e-12, 2.0567e-17, 1.0000e+00, 6.5589e-10, 1.1144e-08, 7.9360e-13,\n",
       "         1.8811e-08, 5.0539e-09, 5.7311e-17, 4.7262e-10],\n",
       "        [1.9937e-07, 1.0461e-14, 2.7722e-06, 1.6200e-13, 2.2379e-07, 5.2200e-07,\n",
       "         9.9967e-01, 1.7432e-05, 1.6720e-11, 3.1014e-04],\n",
       "        [1.2797e-12, 2.3682e-15, 5.5614e-11, 8.8317e-06, 3.0585e-11, 4.8994e-01,\n",
       "         5.0783e-01, 4.5222e-09, 5.5009e-13, 2.2176e-03],\n",
       "        [7.1860e-14, 6.6753e-14, 1.5547e-09, 1.5031e-09, 3.5004e-08, 3.3249e-09,\n",
       "         9.9986e-01, 2.3892e-06, 1.2951e-11, 1.3435e-04],\n",
       "        [1.3570e-10, 1.7489e-17, 2.8550e-01, 9.6315e-11, 1.6080e-04, 6.2834e-01,\n",
       "         8.4042e-02, 1.0741e-05, 2.7881e-11, 1.9517e-03],\n",
       "        [5.2283e-11, 8.8059e-15, 1.0858e-09, 8.6024e-12, 1.4684e-08, 6.5082e-08,\n",
       "         9.9999e-01, 1.4027e-10, 1.4163e-07, 6.9102e-06],\n",
       "        [1.5605e-10, 3.5338e-18, 9.2856e-03, 1.5149e-10, 8.6398e-07, 1.7869e-07,\n",
       "         9.8837e-01, 9.7354e-07, 5.0494e-07, 2.3391e-03],\n",
       "        [1.9101e-08, 3.6024e-10, 3.3377e-03, 2.1821e-06, 1.5448e-09, 3.5745e-04,\n",
       "         4.5194e-01, 4.6672e-03, 1.2919e-04, 5.3957e-01],\n",
       "        [9.0418e-06, 7.4354e-11, 3.1207e-06, 6.6832e-06, 1.2023e-03, 1.7390e-06,\n",
       "         3.8735e-04, 9.7779e-04, 3.7445e-05, 9.9737e-01],\n",
       "        [2.8105e-07, 2.1170e-16, 2.6085e-08, 5.8435e-08, 2.3145e-05, 9.6660e-07,\n",
       "         2.0202e-08, 9.0596e-07, 1.6695e-11, 9.9997e-01],\n",
       "        [1.2094e-08, 5.1718e-16, 1.1406e-03, 4.7550e-06, 5.1519e-11, 2.4924e-03,\n",
       "         7.5258e-01, 2.3488e-04, 1.0847e-06, 2.4354e-01],\n",
       "        [4.2072e-07, 9.0004e-09, 2.5502e-02, 7.3743e-03, 1.1244e-06, 6.0481e-05,\n",
       "         5.6550e-02, 3.9430e-03, 6.0037e-07, 9.0657e-01],\n",
       "        [3.5111e-09, 1.0681e-10, 2.4746e-07, 8.9566e-09, 2.4300e-06, 8.2919e-09,\n",
       "         3.0047e-05, 6.5735e-05, 3.3834e-11, 9.9990e-01],\n",
       "        [5.5648e-07, 8.6903e-11, 1.9507e-06, 5.2250e-08, 9.8735e-06, 1.8451e-04,\n",
       "         2.0650e-01, 4.5802e-03, 1.2476e-06, 7.8872e-01],\n",
       "        [6.0233e-10, 9.6760e-13, 4.6531e-04, 1.5374e-06, 2.6804e-08, 6.5910e-07,\n",
       "         9.9946e-01, 1.1929e-05, 2.1239e-08, 5.5862e-05],\n",
       "        [1.3148e-08, 1.2130e-13, 1.1904e-02, 9.3971e-07, 7.2148e-07, 2.0528e-09,\n",
       "         1.7180e-05, 7.0706e-09, 6.0299e-11, 9.8808e-01],\n",
       "        [9.6794e-07, 7.1679e-14, 8.1813e-04, 1.8208e-02, 5.3754e-04, 4.3922e-09,\n",
       "         9.6792e-01, 1.3615e-06, 2.0609e-09, 1.2518e-02],\n",
       "        [5.4879e-08, 1.5387e-13, 2.2773e-06, 3.9137e-03, 3.9900e-06, 4.2198e-08,\n",
       "         1.3383e-06, 3.2148e-05, 6.7460e-13, 9.9605e-01],\n",
       "        [3.2434e-05, 5.0429e-10, 5.4538e-01, 6.8537e-04, 2.9049e-04, 2.2945e-07,\n",
       "         6.7751e-03, 5.8027e-04, 1.9660e-04, 4.4606e-01],\n",
       "        [2.2502e-07, 2.5139e-11, 2.5449e-06, 4.8764e-08, 1.7335e-05, 4.4621e-08,\n",
       "         8.4763e-01, 4.2756e-04, 3.1680e-06, 1.5192e-01],\n",
       "        [4.8945e-11, 3.4720e-11, 4.4206e-06, 9.7358e-10, 1.0216e-08, 4.7068e-08,\n",
       "         9.9993e-01, 2.2849e-11, 3.7453e-09, 6.2424e-05],\n",
       "        [1.0669e-07, 6.4434e-10, 1.5257e-04, 4.6358e-07, 8.2170e-07, 7.0057e-06,\n",
       "         2.6340e-02, 7.5185e-07, 4.5497e-05, 9.7345e-01],\n",
       "        [7.2110e-08, 1.9515e-11, 1.3831e-05, 6.1985e-08, 8.4808e-07, 3.6878e-08,\n",
       "         9.8362e-01, 3.7979e-04, 1.9975e-07, 1.5982e-02],\n",
       "        [1.2714e-06, 3.5227e-09, 7.7618e-02, 1.2582e-04, 3.4818e-08, 2.2614e-03,\n",
       "         5.1853e-01, 2.2595e-03, 2.5481e-06, 3.9920e-01],\n",
       "        [7.5650e-05, 6.0553e-13, 1.5088e-04, 2.7461e-02, 7.4699e-01, 1.2606e-04,\n",
       "         2.0070e-01, 1.4361e-03, 6.7603e-05, 2.2999e-02],\n",
       "        [9.4769e-08, 2.3660e-12, 2.7341e-05, 1.8496e-07, 4.4525e-08, 5.4022e-03,\n",
       "         9.7695e-01, 1.6481e-06, 4.0678e-09, 1.7615e-02],\n",
       "        [1.6119e-08, 2.7522e-12, 4.6783e-06, 1.8336e-04, 8.8627e-05, 2.4563e-03,\n",
       "         2.0812e-01, 6.2179e-04, 8.8455e-10, 7.8852e-01],\n",
       "        [1.8869e-06, 3.2719e-12, 8.0779e-04, 1.1740e-03, 1.6369e-10, 8.0271e-06,\n",
       "         7.6826e-01, 1.8844e-03, 4.5374e-08, 2.2787e-01],\n",
       "        [1.2300e-06, 1.3908e-05, 1.3540e-04, 1.0343e-04, 3.7580e-07, 2.0782e-05,\n",
       "         5.9127e-01, 6.6712e-06, 5.2512e-04, 4.0792e-01],\n",
       "        [1.0994e-07, 5.3197e-14, 1.0171e-01, 3.8794e-06, 4.0364e-06, 5.3062e-06,\n",
       "         2.6940e-03, 4.0515e-01, 7.4310e-09, 4.9043e-01],\n",
       "        [2.2014e-05, 3.8004e-16, 1.0026e-05, 1.4100e-10, 3.1983e-08, 7.9647e-10,\n",
       "         9.9993e-01, 3.2230e-09, 2.7764e-11, 3.5886e-05],\n",
       "        [5.5606e-05, 1.1977e-10, 6.0794e-01, 3.3648e-07, 1.4070e-02, 1.6830e-03,\n",
       "         1.7336e-01, 2.0117e-01, 5.7363e-07, 1.7213e-03],\n",
       "        [8.4969e-09, 3.1106e-12, 3.5943e-03, 6.1317e-09, 1.7984e-07, 1.7647e-06,\n",
       "         9.9640e-01, 9.7347e-12, 2.6273e-10, 4.1514e-08],\n",
       "        [8.3877e-09, 5.7028e-19, 9.9681e-01, 5.7536e-06, 1.1585e-07, 3.3425e-07,\n",
       "         2.0785e-04, 2.2104e-06, 6.5229e-12, 2.9692e-03],\n",
       "        [5.7620e-07, 7.8433e-10, 1.4668e-04, 8.1025e-07, 1.3772e-05, 2.8051e-06,\n",
       "         1.3643e-04, 2.0668e-03, 7.6704e-05, 9.9756e-01],\n",
       "        [3.9864e-09, 5.7243e-17, 6.0576e-07, 1.2325e-04, 9.1935e-10, 1.0340e-08,\n",
       "         7.2448e-04, 2.2925e-06, 1.3139e-11, 9.9915e-01],\n",
       "        [1.3508e-08, 1.8817e-18, 3.0355e-05, 1.1625e-07, 3.4161e-03, 5.7244e-08,\n",
       "         1.0935e-06, 1.0871e-07, 9.3672e-10, 9.9655e-01],\n",
       "        [2.6189e-07, 3.0681e-10, 1.9410e-01, 5.5401e-11, 8.3456e-06, 8.6295e-04,\n",
       "         8.5796e-04, 6.1504e-07, 2.8796e-03, 8.0129e-01],\n",
       "        [4.1643e-03, 2.0287e-13, 7.1722e-03, 3.5598e-03, 9.9175e-07, 3.0598e-05,\n",
       "         8.6274e-02, 2.6685e-05, 6.7111e-05, 8.9870e-01],\n",
       "        [1.1714e-03, 9.5209e-10, 7.8607e-03, 3.8763e-05, 6.4383e-07, 1.6233e-07,\n",
       "         9.5240e-01, 1.6856e-06, 3.2446e-04, 3.8201e-02],\n",
       "        [4.0682e-09, 2.1710e-15, 1.2328e-08, 3.4971e-07, 2.4861e-09, 8.8126e-11,\n",
       "         1.9494e-08, 2.0521e-03, 2.6942e-11, 9.9795e-01],\n",
       "        [3.0259e-07, 9.2178e-10, 8.8756e-06, 2.8791e-04, 5.7310e-07, 1.4346e-06,\n",
       "         9.7330e-02, 1.4913e-03, 1.3537e-07, 9.0088e-01],\n",
       "        [3.8735e-04, 8.5716e-12, 4.8044e-03, 3.4546e-09, 2.1822e-04, 1.3239e-04,\n",
       "         9.9326e-01, 1.1865e-03, 6.5142e-07, 1.3320e-05],\n",
       "        [1.6656e-06, 5.0221e-11, 2.1025e-05, 7.6478e-05, 6.1696e-01, 2.8774e-02,\n",
       "         6.7130e-02, 6.2661e-03, 2.7552e-01, 5.2543e-03],\n",
       "        [1.6029e-08, 6.7006e-14, 3.8562e-07, 1.7753e-10, 1.8732e-07, 2.5408e-07,\n",
       "         9.9988e-01, 1.2238e-04, 2.3995e-08, 5.5626e-07],\n",
       "        [1.0588e-09, 1.8063e-09, 4.5926e-09, 6.3254e-07, 2.4708e-09, 1.2631e-07,\n",
       "         9.9356e-01, 1.2795e-10, 1.7970e-08, 6.4426e-03],\n",
       "        [4.7217e-08, 2.9149e-12, 7.0723e-07, 1.1687e-07, 8.1485e-10, 1.1324e-11,\n",
       "         9.9321e-01, 8.5793e-06, 2.8186e-10, 6.7854e-03],\n",
       "        [1.8093e-04, 4.1282e-11, 6.2107e-03, 6.4658e-05, 2.0887e-07, 1.0615e-02,\n",
       "         9.6358e-01, 1.1712e-08, 5.9897e-08, 1.9352e-02],\n",
       "        [2.1402e-06, 4.5656e-12, 6.9740e-03, 1.1762e-04, 1.2324e-05, 4.3879e-07,\n",
       "         2.1777e-04, 1.5389e-05, 2.2022e-07, 9.9266e-01],\n",
       "        [1.4826e-02, 4.4469e-10, 2.2315e-03, 3.5608e-01, 1.3237e-04, 4.2356e-05,\n",
       "         4.7330e-04, 1.4322e-03, 1.7771e-08, 6.2479e-01],\n",
       "        [1.7843e-08, 5.5797e-09, 3.0045e-02, 7.8102e-07, 1.5176e-05, 9.2173e-07,\n",
       "         9.4049e-01, 1.1971e-05, 4.7766e-09, 2.9434e-02],\n",
       "        [2.8223e-09, 4.1781e-15, 5.1818e-11, 1.2981e-07, 9.6359e-08, 2.1910e-08,\n",
       "         7.6156e-01, 2.0593e-07, 1.4268e-08, 2.3844e-01],\n",
       "        [3.1997e-07, 3.1502e-15, 1.3698e-04, 1.6691e-04, 1.6238e-08, 8.1239e-08,\n",
       "         2.3113e-05, 4.6819e-09, 3.2346e-10, 9.9967e-01],\n",
       "        [6.9869e-05, 2.1561e-13, 2.0395e-01, 6.8376e-01, 1.1809e-05, 5.7937e-08,\n",
       "         3.7974e-03, 1.5113e-05, 8.1259e-05, 1.0831e-01],\n",
       "        [3.6313e-08, 6.8139e-11, 4.7588e-07, 1.5843e-10, 4.7979e-09, 1.8382e-09,\n",
       "         9.9119e-01, 2.1258e-09, 2.4822e-07, 8.8099e-03],\n",
       "        [4.4750e-05, 1.0126e-12, 5.4462e-03, 6.2906e-03, 4.1715e-05, 1.1655e-05,\n",
       "         5.2537e-04, 2.1312e-04, 1.3628e-05, 9.8741e-01],\n",
       "        [3.2272e-06, 6.6934e-13, 5.1820e-05, 7.6334e-07, 9.8945e-08, 2.4616e-08,\n",
       "         3.0456e-04, 6.5491e-04, 1.8877e-06, 9.9898e-01]])"
      ]
     },
     "execution_count": 7,
     "metadata": {},
     "output_type": "execute_result"
    }
   ],
   "source": [
    "probabilities"
   ]
  },
  {
   "cell_type": "markdown",
   "metadata": {},
   "source": [
    "## Building networks with PyTorch\n",
    "\n",
    "PyTorch provides a module `nn` that makes building networks much simpler. Here I'll show you how to build the same one as above with 784 inputs, 256 hidden units, 10 output units and a softmax output."
   ]
  },
  {
   "cell_type": "code",
   "execution_count": 8,
   "metadata": {},
   "outputs": [],
   "source": [
    "from torch import nn"
   ]
  },
  {
   "cell_type": "code",
   "execution_count": 9,
   "metadata": {},
   "outputs": [],
   "source": [
    "class Network(nn.Module):\n",
    "    def __init__(self):\n",
    "        super().__init__()\n",
    "        \n",
    "        # Inputs to hidden layer linear transformation\n",
    "        self.hidden = nn.Linear(784, 256)\n",
    "        # Output layer, 10 units - one for each digit\n",
    "        self.output = nn.Linear(256, 10)\n",
    "        \n",
    "        # Define sigmoid activation and softmax output \n",
    "        self.sigmoid = nn.Sigmoid()\n",
    "        self.softmax = nn.Softmax(dim=1)\n",
    "        \n",
    "    def forward(self, x):\n",
    "        # Pass the input tensor through each of our operations\n",
    "        x = self.hidden(x)\n",
    "        x = self.sigmoid(x)\n",
    "        x = self.output(x)\n",
    "        x = self.softmax(x)\n",
    "        \n",
    "        return x"
   ]
  },
  {
   "cell_type": "markdown",
   "metadata": {},
   "source": [
    "Let's go through this bit by bit.\n",
    "\n",
    "```python\n",
    "class Network(nn.Module):\n",
    "```\n",
    "\n",
    "Here we're inheriting from `nn.Module`. Combined with `super().__init__()` this creates a class that tracks the architecture and provides a lot of useful methods and attributes. It is mandatory to inherit from `nn.Module` when you're creating a class for your network. The name of the class itself can be anything.\n",
    "\n",
    "```python\n",
    "self.hidden = nn.Linear(784, 256)\n",
    "```\n",
    "\n",
    "This line creates a module for a linear transformation, $x\\mathbf{W} + b$, with 784 inputs and 256 outputs and assigns it to `self.hidden`. The module automatically creates the weight and bias tensors which we'll use in the `forward` method. You can access the weight and bias tensors once the network (`net`) is created with `net.hidden.weight` and `net.hidden.bias`.\n",
    "\n",
    "```python\n",
    "self.output = nn.Linear(256, 10)\n",
    "```\n",
    "\n",
    "Similarly, this creates another linear transformation with 256 inputs and 10 outputs.\n",
    "\n",
    "```python\n",
    "self.sigmoid = nn.Sigmoid()\n",
    "self.softmax = nn.Softmax(dim=1)\n",
    "```\n",
    "\n",
    "Here I defined operations for the sigmoid activation and softmax output. Setting `dim=1` in `nn.Softmax(dim=1)` calculates softmax across the columns.\n",
    "\n",
    "```python\n",
    "def forward(self, x):\n",
    "```\n",
    "\n",
    "PyTorch networks created with `nn.Module` must have a `forward` method defined. It takes in a tensor `x` and passes it through the operations you defined in the `__init__` method.\n",
    "\n",
    "```python\n",
    "x = self.hidden(x)\n",
    "x = self.sigmoid(x)\n",
    "x = self.output(x)\n",
    "x = self.softmax(x)\n",
    "```\n",
    "\n",
    "Here the input tensor `x` is passed through each operation a reassigned to `x`. We can see that the input tensor goes through the hidden layer, then a sigmoid function, then the output layer, and finally the softmax function. It doesn't matter what you name the variables here, as long as the inputs and outputs of the operations match the network architecture you want to build. The order in which you define things in the `__init__` method doesn't matter, but you'll need to sequence the operations correctly in the `forward` method.\n",
    "\n",
    "Now we can create a `Network` object."
   ]
  },
  {
   "cell_type": "code",
   "execution_count": 10,
   "metadata": {},
   "outputs": [
    {
     "data": {
      "text/plain": [
       "Network(\n",
       "  (hidden): Linear(in_features=784, out_features=256, bias=True)\n",
       "  (output): Linear(in_features=256, out_features=10, bias=True)\n",
       "  (sigmoid): Sigmoid()\n",
       "  (softmax): Softmax()\n",
       ")"
      ]
     },
     "execution_count": 10,
     "metadata": {},
     "output_type": "execute_result"
    }
   ],
   "source": [
    "# Create the network and look at it's text representation\n",
    "model = Network()\n",
    "model"
   ]
  },
  {
   "cell_type": "markdown",
   "metadata": {},
   "source": [
    "You can define the network somewhat more concisely and clearly using the `torch.nn.functional` module. This is the most common way you'll see networks defined as many operations are simple element-wise functions. We normally import this module as `F`, `import torch.nn.functional as F`."
   ]
  },
  {
   "cell_type": "code",
   "execution_count": 11,
   "metadata": {},
   "outputs": [],
   "source": [
    "import torch.nn.functional as F\n",
    "\n",
    "class Network(nn.Module):\n",
    "    def __init__(self):\n",
    "        super().__init__()\n",
    "        # Inputs to hidden layer linear transformation\n",
    "        self.hidden = nn.Linear(784, 256)\n",
    "        # Output layer, 10 units - one for each digit\n",
    "        self.output = nn.Linear(256, 10)\n",
    "        \n",
    "    def forward(self, x):\n",
    "        # Hidden layer with sigmoid activation\n",
    "        x = F.sigmoid(self.hidden(x))\n",
    "        # Output layer with softmax activation\n",
    "        x = F.softmax(self.output(x), dim=1)\n",
    "        \n",
    "        return x"
   ]
  },
  {
   "cell_type": "markdown",
   "metadata": {},
   "source": [
    "### Activation functions\n",
    "\n",
    "So far we've only been looking at the softmax activation, but in general any function can be used as an activation function. The only requirement is that for a network to approximate a non-linear function, the activation functions must be non-linear. Here are a few more examples of common activation functions: Tanh (hyperbolic tangent), and ReLU (rectified linear unit).\n",
    "\n",
    "<img src=\"assets/activation.png\" width=700px>\n",
    "\n",
    "In practice, the ReLU function is used almost exclusively as the activation function for hidden layers."
   ]
  },
  {
   "cell_type": "markdown",
   "metadata": {},
   "source": [
    "### Your Turn to Build a Network\n",
    "\n",
    "<img src=\"assets/mlp_mnist.png\" width=600px>\n",
    "\n",
    "> **Exercise:** Create a network with 784 input units, a hidden layer with 128 units and a ReLU activation, then a hidden layer with 64 units and a ReLU activation, and finally an output layer with a softmax activation as shown above. You can use a ReLU activation with the `nn.ReLU` module or `F.relu` function."
   ]
  },
  {
   "cell_type": "code",
   "execution_count": 12,
   "metadata": {
    "scrolled": true
   },
   "outputs": [
    {
     "data": {
      "text/plain": [
       "Network(\n",
       "  (fc1): Linear(in_features=784, out_features=128, bias=True)\n",
       "  (fc2): Linear(in_features=128, out_features=64, bias=True)\n",
       "  (fc3): Linear(in_features=64, out_features=10, bias=True)\n",
       ")"
      ]
     },
     "execution_count": 12,
     "metadata": {},
     "output_type": "execute_result"
    }
   ],
   "source": [
    "## Solution\n",
    "\n",
    "class Network(nn.Module):\n",
    "    def __init__(self):\n",
    "        super().__init__()\n",
    "        # Defining the layers, 128, 64, 10 units each\n",
    "        self.fc1 = nn.Linear(784, 128)\n",
    "        self.fc2 = nn.Linear(128, 64)\n",
    "        # Output layer, 10 units - one for each digit\n",
    "        self.fc3 = nn.Linear(64, 10)\n",
    "        \n",
    "    def forward(self, x):\n",
    "        ''' Forward pass through the network, returns the output logits '''\n",
    "        \n",
    "        x = self.fc1(x)\n",
    "        x = F.relu(x)\n",
    "        x = self.fc2(x)\n",
    "        x = F.relu(x)\n",
    "        x = self.fc3(x)\n",
    "        x = F.softmax(x, dim=1)\n",
    "        return x\n",
    "\n",
    "model = Network()\n",
    "model"
   ]
  },
  {
   "cell_type": "markdown",
   "metadata": {},
   "source": [
    "### Initializing weights and biases\n",
    "\n",
    "The weights and such are automatically initialized for you, but it's possible to customize how they are initialized. The weights and biases are tensors attached to the layer you defined, you can get them with `model.fc1.weight` for instance."
   ]
  },
  {
   "cell_type": "code",
   "execution_count": 13,
   "metadata": {},
   "outputs": [
    {
     "name": "stdout",
     "output_type": "stream",
     "text": [
      "Parameter containing:\n",
      "tensor([[ 0.0171,  0.0207,  0.0156,  ...,  0.0140,  0.0030, -0.0239],\n",
      "        [-0.0136,  0.0272, -0.0313,  ...,  0.0251, -0.0289,  0.0144],\n",
      "        [ 0.0165, -0.0331,  0.0072,  ..., -0.0063, -0.0271, -0.0010],\n",
      "        ...,\n",
      "        [ 0.0039,  0.0322, -0.0158,  ...,  0.0280, -0.0090,  0.0017],\n",
      "        [-0.0238,  0.0050, -0.0044,  ...,  0.0318, -0.0321, -0.0070],\n",
      "        [-0.0141, -0.0267, -0.0190,  ..., -0.0104, -0.0150,  0.0063]],\n",
      "       requires_grad=True)\n",
      "Parameter containing:\n",
      "tensor([ 0.0015,  0.0210,  0.0277, -0.0014, -0.0212, -0.0216, -0.0031,  0.0042,\n",
      "         0.0200, -0.0180,  0.0189,  0.0038, -0.0055,  0.0084,  0.0071, -0.0185,\n",
      "         0.0039, -0.0170,  0.0094, -0.0262,  0.0120,  0.0053, -0.0105, -0.0308,\n",
      "         0.0333, -0.0097, -0.0314, -0.0074,  0.0097, -0.0151,  0.0012,  0.0241,\n",
      "         0.0046,  0.0294, -0.0109, -0.0353, -0.0133,  0.0007,  0.0212, -0.0082,\n",
      "        -0.0185,  0.0237,  0.0347,  0.0227,  0.0127,  0.0280, -0.0302, -0.0026,\n",
      "         0.0254,  0.0039, -0.0307, -0.0248,  0.0332, -0.0317,  0.0184, -0.0238,\n",
      "         0.0157,  0.0310, -0.0000,  0.0232, -0.0120,  0.0278, -0.0044,  0.0141,\n",
      "         0.0033,  0.0257,  0.0030, -0.0262,  0.0274, -0.0336, -0.0181, -0.0005,\n",
      "         0.0010, -0.0314, -0.0293, -0.0114, -0.0107, -0.0208,  0.0172, -0.0270,\n",
      "         0.0143, -0.0318, -0.0060, -0.0141,  0.0327,  0.0355,  0.0299,  0.0091,\n",
      "        -0.0158,  0.0348, -0.0015, -0.0055, -0.0126,  0.0235, -0.0236, -0.0246,\n",
      "        -0.0199,  0.0312, -0.0143,  0.0090, -0.0142,  0.0306, -0.0216, -0.0080,\n",
      "         0.0239, -0.0110,  0.0259,  0.0018, -0.0002,  0.0163,  0.0306, -0.0145,\n",
      "        -0.0213,  0.0004, -0.0326, -0.0099,  0.0167, -0.0210, -0.0032, -0.0207,\n",
      "        -0.0308, -0.0309, -0.0201,  0.0322,  0.0068,  0.0271,  0.0235, -0.0157],\n",
      "       requires_grad=True)\n"
     ]
    }
   ],
   "source": [
    "print(model.fc1.weight)\n",
    "print(model.fc1.bias)"
   ]
  },
  {
   "cell_type": "markdown",
   "metadata": {},
   "source": [
    "For custom initialization, we want to modify these tensors in place. These are actually autograd *Variables*, so we need to get back the actual tensors with `model.fc1.weight.data`. Once we have the tensors, we can fill them with zeros (for biases) or random normal values."
   ]
  },
  {
   "cell_type": "code",
   "execution_count": 14,
   "metadata": {},
   "outputs": [
    {
     "data": {
      "text/plain": [
       "tensor([0., 0., 0., 0., 0., 0., 0., 0., 0., 0., 0., 0., 0., 0., 0., 0., 0., 0.,\n",
       "        0., 0., 0., 0., 0., 0., 0., 0., 0., 0., 0., 0., 0., 0., 0., 0., 0., 0.,\n",
       "        0., 0., 0., 0., 0., 0., 0., 0., 0., 0., 0., 0., 0., 0., 0., 0., 0., 0.,\n",
       "        0., 0., 0., 0., 0., 0., 0., 0., 0., 0., 0., 0., 0., 0., 0., 0., 0., 0.,\n",
       "        0., 0., 0., 0., 0., 0., 0., 0., 0., 0., 0., 0., 0., 0., 0., 0., 0., 0.,\n",
       "        0., 0., 0., 0., 0., 0., 0., 0., 0., 0., 0., 0., 0., 0., 0., 0., 0., 0.,\n",
       "        0., 0., 0., 0., 0., 0., 0., 0., 0., 0., 0., 0., 0., 0., 0., 0., 0., 0.,\n",
       "        0., 0.])"
      ]
     },
     "execution_count": 14,
     "metadata": {},
     "output_type": "execute_result"
    }
   ],
   "source": [
    "# Set biases to all zeros\n",
    "model.fc1.bias.data.fill_(0)"
   ]
  },
  {
   "cell_type": "code",
   "execution_count": 15,
   "metadata": {},
   "outputs": [
    {
     "data": {
      "text/plain": [
       "tensor([[ 0.0217,  0.0100, -0.0187,  ...,  0.0153, -0.0279, -0.0128],\n",
       "        [-0.0014, -0.0020, -0.0039,  ...,  0.0022,  0.0151,  0.0058],\n",
       "        [ 0.0144,  0.0079, -0.0055,  ..., -0.0116,  0.0030,  0.0004],\n",
       "        ...,\n",
       "        [ 0.0044, -0.0097, -0.0048,  ...,  0.0065, -0.0013, -0.0196],\n",
       "        [-0.0120, -0.0021,  0.0036,  ..., -0.0142, -0.0040, -0.0055],\n",
       "        [ 0.0019,  0.0181, -0.0106,  ..., -0.0023, -0.0138,  0.0082]])"
      ]
     },
     "execution_count": 15,
     "metadata": {},
     "output_type": "execute_result"
    }
   ],
   "source": [
    "# sample from random normal with standard dev = 0.01\n",
    "model.fc1.weight.data.normal_(std=0.01)"
   ]
  },
  {
   "cell_type": "markdown",
   "metadata": {},
   "source": [
    "### Forward pass\n",
    "\n",
    "Now that we have a network, let's see what happens when we pass in an image."
   ]
  },
  {
   "cell_type": "code",
   "execution_count": 16,
   "metadata": {},
   "outputs": [
    {
     "data": {
      "image/png": "[encoded data removed]",
      "text/plain": [
       "<Figure size 432x648 with 2 Axes>"
      ]
     },
     "metadata": {
      "image/png": {
       "height": 226,
       "width": 423
      },
      "needs_background": "light"
     },
     "output_type": "display_data"
    }
   ],
   "source": [
    "# Grab some data \n",
    "dataiter = iter(trainloader)\n",
    "images, labels = dataiter.next()\n",
    "\n",
    "# Resize images into a 1D vector, new shape is (batch size, color channels, image pixels) \n",
    "images.resize_(64, 1, 784)\n",
    "# or images.resize_(images.shape[0], 1, 784) to automatically get batch size\n",
    "\n",
    "# Forward pass through the network\n",
    "img_idx = 0\n",
    "ps = model.forward(images[img_idx,:])\n",
    "\n",
    "img = images[img_idx]\n",
    "helper.view_classify(img.view(1, 28, 28), ps)"
   ]
  },
  {
   "cell_type": "markdown",
   "metadata": {},
   "source": [
    "As you can see above, our network has basically no idea what this digit is. It's because we haven't trained it yet, all the weights are random!\n",
    "\n",
    "### Using `nn.Sequential`\n",
    "\n",
    "PyTorch provides a convenient way to build networks like this where a tensor is passed sequentially through operations, `nn.Sequential` ([documentation](https://pytorch.org/docs/master/nn.html#torch.nn.Sequential)). Using this to build the equivalent network:"
   ]
  },
  {
   "cell_type": "code",
   "execution_count": 17,
   "metadata": {},
   "outputs": [
    {
     "name": "stdout",
     "output_type": "stream",
     "text": [
      "Sequential(\n",
      "  (0): Linear(in_features=784, out_features=128, bias=True)\n",
      "  (1): ReLU()\n",
      "  (2): Linear(in_features=128, out_features=64, bias=True)\n",
      "  (3): ReLU()\n",
      "  (4): Linear(in_features=64, out_features=10, bias=True)\n",
      "  (5): Softmax()\n",
      ")\n"
     ]
    },
    {
     "data": {
      "image/png": "[encoded data removed]",
      "text/plain": [
       "<Figure size 432x648 with 2 Axes>"
      ]
     },
     "metadata": {
      "image/png": {
       "height": 226,
       "width": 423
      },
      "needs_background": "light"
     },
     "output_type": "display_data"
    }
   ],
   "source": [
    "# Hyperparameters for our network\n",
    "input_size = 784\n",
    "hidden_sizes = [128, 64]\n",
    "output_size = 10\n",
    "\n",
    "# Build a feed-forward network\n",
    "model = nn.Sequential(nn.Linear(input_size, hidden_sizes[0]),\n",
    "                      nn.ReLU(),\n",
    "                      nn.Linear(hidden_sizes[0], hidden_sizes[1]),\n",
    "                      nn.ReLU(),\n",
    "                      nn.Linear(hidden_sizes[1], output_size),\n",
    "                      nn.Softmax(dim=1))\n",
    "print(model)\n",
    "\n",
    "# Forward pass through the network and display output\n",
    "images, labels = next(iter(trainloader))\n",
    "images.resize_(images.shape[0], 1, 784)\n",
    "ps = model.forward(images[0,:])\n",
    "helper.view_classify(images[0].view(1, 28, 28), ps)"
   ]
  },
  {
   "cell_type": "markdown",
   "metadata": {},
   "source": [
    "The operations are availble by passing in the appropriate index. For example, if you want to get first Linear operation and look at the weights, you'd use `model[0]`."
   ]
  },
  {
   "cell_type": "code",
   "execution_count": 18,
   "metadata": {},
   "outputs": [
    {
     "name": "stdout",
     "output_type": "stream",
     "text": [
      "Linear(in_features=784, out_features=128, bias=True)\n"
     ]
    },
    {
     "data": {
      "text/plain": [
       "Parameter containing:\n",
       "tensor([[ 0.0142, -0.0147,  0.0164,  ...,  0.0335, -0.0035,  0.0057],\n",
       "        [-0.0259,  0.0247,  0.0302,  ..., -0.0162,  0.0045,  0.0293],\n",
       "        [-0.0296, -0.0192,  0.0132,  ..., -0.0328, -0.0064,  0.0118],\n",
       "        ...,\n",
       "        [-0.0090, -0.0312,  0.0006,  ...,  0.0350,  0.0350,  0.0073],\n",
       "        [-0.0255,  0.0112,  0.0010,  ..., -0.0008, -0.0336, -0.0233],\n",
       "        [-0.0263,  0.0063,  0.0086,  ...,  0.0177, -0.0064, -0.0145]],\n",
       "       requires_grad=True)"
      ]
     },
     "execution_count": 18,
     "metadata": {},
     "output_type": "execute_result"
    }
   ],
   "source": [
    "print(model[0])\n",
    "model[0].weight"
   ]
  },
  {
   "cell_type": "markdown",
   "metadata": {},
   "source": [
    "You can also pass in an `OrderedDict` to name the individual layers and operations, instead of using incremental integers. Note that dictionary keys must be unique, so _each operation must have a different name_."
   ]
  },
  {
   "cell_type": "code",
   "execution_count": 19,
   "metadata": {},
   "outputs": [
    {
     "data": {
      "text/plain": [
       "Sequential(\n",
       "  (fc1): Linear(in_features=784, out_features=128, bias=True)\n",
       "  (relu1): ReLU()\n",
       "  (fc2): Linear(in_features=128, out_features=64, bias=True)\n",
       "  (relu2): ReLU()\n",
       "  (output): Linear(in_features=64, out_features=10, bias=True)\n",
       "  (softmax): Softmax()\n",
       ")"
      ]
     },
     "execution_count": 19,
     "metadata": {},
     "output_type": "execute_result"
    }
   ],
   "source": [
    "from collections import OrderedDict\n",
    "model = nn.Sequential(OrderedDict([\n",
    "                      ('fc1', nn.Linear(input_size, hidden_sizes[0])),\n",
    "                      ('relu1', nn.ReLU()),\n",
    "                      ('fc2', nn.Linear(hidden_sizes[0], hidden_sizes[1])),\n",
    "                      ('relu2', nn.ReLU()),\n",
    "                      ('output', nn.Linear(hidden_sizes[1], output_size)),\n",
    "                      ('softmax', nn.Softmax(dim=1))]))\n",
    "model"
   ]
  },
  {
   "cell_type": "markdown",
   "metadata": {},
   "source": [
    "Now you can access layers either by integer or the name"
   ]
  },
  {
   "cell_type": "code",
   "execution_count": 20,
   "metadata": {},
   "outputs": [
    {
     "name": "stdout",
     "output_type": "stream",
     "text": [
      "Linear(in_features=784, out_features=128, bias=True)\n",
      "Linear(in_features=784, out_features=128, bias=True)\n"
     ]
    }
   ],
   "source": [
    "print(model[0])\n",
    "print(model.fc1)"
   ]
  },
  {
   "cell_type": "markdown",
   "metadata": {},
   "source": [
    "In the next notebook, we'll see how we can train a neural network to accuractly predict the numbers appearing in the MNIST images."
   ]
  }
 ],
 "metadata": {
  "kernelspec": {
   "display_name": "Python 3",
   "language": "python",
   "name": "python3"
  },
  "language_info": {
   "codemirror_mode": {
    "name": "ipython",
    "version": 3
   },
   "file_extension": ".py",
   "mimetype": "text/x-python",
   "name": "python",
   "nbconvert_exporter": "python",
   "pygments_lexer": "ipython3",
   "version": "3.6.6"
  }
 },
 "nbformat": 4,
 "nbformat_minor": 2
}
