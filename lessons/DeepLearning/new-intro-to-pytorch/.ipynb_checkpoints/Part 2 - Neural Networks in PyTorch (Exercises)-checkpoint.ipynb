{
 "cells": [
  {
   "cell_type": "markdown",
   "metadata": {},
   "source": [
    "# Neural networks with PyTorch\n",
    "\n",
    "Deep learning networks tend to be massive with dozens or hundreds of layers, that's where the term \"deep\" comes from. You can build one of these deep networks using only weight matrices as we did in the previous notebook, but in general it's very cumbersome and difficult to implement. PyTorch has a nice module `nn` that provides a nice way to efficiently build large neural networks."
   ]
  },
  {
   "cell_type": "code",
   "execution_count": 1,
   "metadata": {},
   "outputs": [],
   "source": [
    "# Import necessary packages\n",
    "\n",
    "%matplotlib inline\n",
    "%config InlineBackend.figure_format = 'retina'\n",
    "\n",
    "import numpy as np\n",
    "import torch\n",
    "\n",
    "import helper\n",
    "\n",
    "import matplotlib.pyplot as plt"
   ]
  },
  {
   "cell_type": "markdown",
   "metadata": {},
   "source": [
    "\n",
    "Now we're going to build a larger network that can solve a (formerly) difficult problem, identifying text in an image. Here we'll use the MNIST dataset which consists of greyscale handwritten digits. Each image is 28x28 pixels, you can see a sample below\n",
    "\n",
    "<img src='assets/mnist.png'>\n",
    "\n",
    "Our goal is to build a neural network that can take one of these images and predict the digit in the image.\n",
    "\n",
    "First up, we need to get our dataset. This is provided through the `torchvision` package. The code below will download the MNIST dataset, then create training and test datasets for us. Don't worry too much about the details here, you'll learn more about this later."
   ]
  },
  {
   "cell_type": "code",
   "execution_count": 2,
   "metadata": {},
   "outputs": [],
   "source": [
    "### Run this cell\n",
    "\n",
    "from torchvision import datasets, transforms\n",
    "\n",
    "# Define a transform to normalize the data\n",
    "transform = transforms.Compose([transforms.ToTensor(),\n",
    "                              transforms.Normalize((0.5,), (0.5,)),\n",
    "                              ])\n",
    "\n",
    "# Download and load the training data\n",
    "trainset = datasets.MNIST('~/.pytorch/MNIST_data/', download=True, train=True, transform=transform)\n",
    "trainloader = torch.utils.data.DataLoader(trainset, batch_size=64, shuffle=True)"
   ]
  },
  {
   "cell_type": "markdown",
   "metadata": {},
   "source": [
    "We have the training data loaded into `trainloader` and we make that an iterator with `iter(trainloader)`. Later, we'll use this to loop through the dataset for training, like\n",
    "\n",
    "```python\n",
    "for image, label in trainloader:\n",
    "    ## do things with images and labels\n",
    "```\n",
    "\n",
    "You'll notice I created the `trainloader` with a batch size of 64, and `shuffle=True`. The batch size is the number of images we get in one iteration from the data loader and pass through our network, often called a *batch*. And `shuffle=True` tells it to shuffle the dataset every time we start going through the data loader again. But here I'm just grabbing the first batch so we can check out the data. We can see below that `images` is just a tensor with size `(64, 1, 28, 28)`. So, 64 images per batch, 1 color channel, and 28x28 images."
   ]
  },
  {
   "cell_type": "code",
   "execution_count": 3,
   "metadata": {},
   "outputs": [
    {
     "name": "stdout",
     "output_type": "stream",
     "text": [
      "<class 'torch.Tensor'>\n",
      "torch.Size([64, 1, 28, 28])\n",
      "torch.Size([64])\n"
     ]
    }
   ],
   "source": [
    "dataiter = iter(trainloader)\n",
    "images, labels = dataiter.next()\n",
    "print(type(images))\n",
    "print(images.shape)\n",
    "print(labels.shape)"
   ]
  },
  {
   "cell_type": "markdown",
   "metadata": {},
   "source": [
    "This is what one of the images looks like. "
   ]
  },
  {
   "cell_type": "code",
   "execution_count": 4,
   "metadata": {},
   "outputs": [
    {
     "data": {
      "image/png": "[encoded data removed]",
      "text/plain": [
       "<Figure size 432x288 with 1 Axes>"
      ]
     },
     "metadata": {
      "image/png": {
       "height": 250,
       "width": 253
      },
      "needs_background": "light"
     },
     "output_type": "display_data"
    }
   ],
   "source": [
    "plt.imshow(images[1].numpy().squeeze(), cmap='Greys_r');"
   ]
  },
  {
   "cell_type": "markdown",
   "metadata": {},
   "source": [
    "First, let's try to build a simple network for this dataset using weight matrices and matrix multiplications. Then, we'll see how to do it using PyTorch's `nn` module which provides a much more convenient and powerful method for defining network architectures.\n",
    "\n",
    "The networks you've seen so far are called *fully-connected* or *dense* networks. Each unit in one layer is connected to each unit in the next layer. In fully-connected networks, the input to each layer must be a one-dimensional vector (which can be stacked into a 2D tensor as a batch of multiple examples). However, our images are 28x28 2D tensors, so we need to convert them into 1D vectors. Thinking about sizes, we need to convert the batch of images with shape `(64, 1, 28, 28)` to a have a shape of `(64, 784)`, 784 is 28 times 28. This is typically called *flattening*, we flattened the 2D images into 1D vectors.\n",
    "\n",
    "Previously you built a network with one output unit. Here we need 10 output units, one for each digit. We want our network to predict the digit shown in an image, so what we'll do is calculate probabilities that the image is of any one digit or class. This ends up being a discrete probability distribution over the classes (digits) that tells us the most likely class for the image. That means we need 10 output units for the 10 classes (digits). We'll see how to convert the network output into a probability distribution next.\n",
    "\n",
    "> **Exercise:** Flatten the batch of images `images`. Then build a multi-layer network with 784 input units, 256 hidden units, and 10 output units using random tensors for the weights and biases. For now, use a sigmoid activation for the hidden layer. Leave the output layer without an activation, we'll add one that gives us a probability distribution next."
   ]
  },
  {
   "cell_type": "code",
   "execution_count": 5,
   "metadata": {},
   "outputs": [
    {
     "data": {
      "text/plain": [
       "torch.Size([64, 10])"
      ]
     },
     "execution_count": 5,
     "metadata": {},
     "output_type": "execute_result"
    }
   ],
   "source": [
    "def act(x):\n",
    "    return 1/(1+torch.exp(-x))\n",
    "\n",
    "## Your solution\n",
    "inputs = images.view(images.shape[0], -1)\n",
    "\n",
    "n_input = 784\n",
    "n_hidden = 256\n",
    "n_output = 10\n",
    "\n",
    "torch.manual_seed(2)\n",
    "w1 = torch.randn(n_input,n_hidden)\n",
    "b1 = torch.randn(n_hidden)\n",
    "w2 = torch.randn(n_hidden,n_output)\n",
    "b2 = torch.randn(n_output)\n",
    "\n",
    "h = act(torch.mm(inputs,w1) + b1)\n",
    "\n",
    "out = torch.mm(h, w2) + b2\n",
    "out.shape\n",
    "# output of your network, should have shape (64,10)"
   ]
  },
  {
   "cell_type": "markdown",
   "metadata": {},
   "source": [
    "Now we have 10 outputs for our network. We want to pass in an image to our network and get out a probability distribution over the classes that tells us the likely class(es) the image belongs to. Something that looks like this:\n",
    "<img src='assets/image_distribution.png' width=500px>\n",
    "\n",
    "Here we see that the probability for each class is roughly the same. This is representing an untrained network, it hasn't seen any data yet so it just returns a uniform distribution with equal probabilities for each class.\n",
    "\n",
    "To calculate this probability distribution, we often use the [**softmax** function](https://en.wikipedia.org/wiki/Softmax_function). Mathematically this looks like\n",
    "\n",
    "$$\n",
    "\\Large \\sigma(x_i) = \\cfrac{e^{x_i}}{\\sum_k^K{e^{x_k}}}\n",
    "$$\n",
    "\n",
    "What this does is squish each input $x_i$ between 0 and 1 and normalizes the values to give you a proper probability distribution where the probabilites sum up to one.\n",
    "\n",
    "> **Exercise:** Implement a function `softmax` that performs the softmax calculation and returns probability distributions for each example in the batch. Note that you'll need to pay attention to the shapes when doing this. If you have a tensor `a` with shape `(64, 10)` and a tensor `b` with shape `(64,)`, doing `a/b` will give you an error because PyTorch will try to do the division across the columns (called broadcasting) but you'll get a size mismatch. The way to think about this is for each of the 64 examples, you only want to divide by one value, the sum in the denominator. So you need `b` to have a shape of `(64, 1)`. This way PyTorch will divide the 10 values in each row of `a` by the one value in each row of `b`. Pay attention to how you take the sum as well. You'll need to define the `dim` keyword in `torch.sum`. Setting `dim=0` takes the sum across the rows while `dim=1` takes the sum across the columns."
   ]
  },
  {
   "cell_type": "code",
   "execution_count": 6,
   "metadata": {},
   "outputs": [
    {
     "name": "stdout",
     "output_type": "stream",
     "text": [
      "torch.Size([64, 10])\n",
      "tensor([1.0000, 1.0000, 1.0000, 1.0000, 1.0000, 1.0000, 1.0000, 1.0000, 1.0000,\n",
      "        1.0000, 1.0000, 1.0000, 1.0000, 1.0000, 1.0000, 1.0000, 1.0000, 1.0000,\n",
      "        1.0000, 1.0000, 1.0000, 1.0000, 1.0000, 1.0000, 1.0000, 1.0000, 1.0000,\n",
      "        1.0000, 1.0000, 1.0000, 1.0000, 1.0000, 1.0000, 1.0000, 1.0000, 1.0000,\n",
      "        1.0000, 1.0000, 1.0000, 1.0000, 1.0000, 1.0000, 1.0000, 1.0000, 1.0000,\n",
      "        1.0000, 1.0000, 1.0000, 1.0000, 1.0000, 1.0000, 1.0000, 1.0000, 1.0000,\n",
      "        1.0000, 1.0000, 1.0000, 1.0000, 1.0000, 1.0000, 1.0000, 1.0000, 1.0000,\n",
      "        1.0000])\n"
     ]
    }
   ],
   "source": [
    "def softmax(x):\n",
    "    return torch.exp(x)/torch.exp(x).sum(dim=1).view(-1,1)\n",
    "    ## TODO: Implement the softmax function here\n",
    "\n",
    "# Here, out should be the output of the network in the previous excercise with shape (64,10)\n",
    "probabilities = softmax(out)\n",
    "\n",
    "# Does it have the right shape? Should be (64, 10)\n",
    "print(probabilities.shape)\n",
    "# Does it sum to 1?\n",
    "print(probabilities.sum(dim=1))"
   ]
  },
  {
   "cell_type": "code",
   "execution_count": 7,
   "metadata": {},
   "outputs": [
    {
     "data": {
      "text/plain": [
       "tensor([[1.4898e-07, 1.4457e-12, 6.2701e-06, 5.7772e-01, 5.3789e-08, 1.3583e-01,\n",
       "         7.3515e-08, 2.5663e-06, 7.5598e-10, 2.8644e-01],\n",
       "        [7.7567e-07, 1.8944e-13, 9.4042e-02, 5.7842e-01, 3.6925e-08, 1.2597e-03,\n",
       "         1.1004e-02, 1.8036e-01, 1.3425e-10, 1.3492e-01],\n",
       "        [1.2149e-08, 1.6604e-14, 1.9785e-09, 6.9740e-06, 1.4257e-08, 4.1505e-01,\n",
       "         4.2543e-01, 8.1331e-03, 2.9291e-04, 1.5109e-01],\n",
       "        [2.2439e-06, 1.0412e-09, 1.3648e-03, 5.7539e-04, 2.3633e-06, 9.5480e-01,\n",
       "         2.4343e-07, 1.8847e-07, 1.9617e-12, 4.3255e-02],\n",
       "        [1.3983e-04, 1.2172e-08, 4.5423e-03, 4.7670e-01, 2.3014e-05, 1.3235e-02,\n",
       "         9.9823e-06, 3.7899e-05, 3.7276e-09, 5.0531e-01],\n",
       "        [4.9483e-08, 4.3251e-13, 2.0584e-03, 9.9675e-01, 6.8636e-08, 2.0027e-05,\n",
       "         7.0988e-05, 4.1559e-04, 9.3687e-06, 6.8038e-04],\n",
       "        [8.1294e-06, 4.1817e-09, 5.4913e-06, 1.6176e-02, 1.4337e-05, 5.1142e-06,\n",
       "         5.6284e-06, 5.9464e-05, 2.0807e-07, 9.8373e-01],\n",
       "        [1.0527e-07, 9.0634e-13, 1.6621e-04, 1.1382e-01, 1.2428e-06, 2.6499e-01,\n",
       "         2.9249e-07, 6.7096e-05, 1.0635e-09, 6.2095e-01],\n",
       "        [1.7685e-05, 1.8757e-13, 9.6347e-05, 1.4146e-01, 1.6910e-07, 2.5140e-04,\n",
       "         5.5234e-04, 3.0313e-02, 4.7190e-09, 8.2731e-01],\n",
       "        [6.2587e-10, 3.9853e-15, 6.9474e-05, 5.7906e-04, 1.1709e-04, 4.9471e-04,\n",
       "         8.7236e-06, 4.8945e-03, 4.4023e-09, 9.9384e-01],\n",
       "        [1.6274e-14, 7.3930e-15, 6.9552e-07, 2.1447e-06, 1.7977e-08, 3.2116e-07,\n",
       "         1.0137e-05, 2.4576e-06, 3.3829e-11, 9.9998e-01],\n",
       "        [5.6126e-08, 1.7801e-11, 3.5721e-07, 9.8829e-01, 3.6539e-08, 1.0832e-02,\n",
       "         2.2435e-08, 1.4734e-08, 1.2846e-10, 8.7311e-04],\n",
       "        [6.3864e-08, 2.0081e-13, 5.9522e-04, 7.3587e-07, 5.7474e-02, 7.9548e-01,\n",
       "         1.6788e-03, 1.9636e-02, 6.6305e-06, 1.2513e-01],\n",
       "        [2.2153e-07, 2.0672e-12, 6.3705e-05, 9.3626e-01, 1.4242e-04, 2.2196e-03,\n",
       "         2.8569e-08, 1.3591e-02, 1.5590e-09, 4.7725e-02],\n",
       "        [1.0591e-06, 6.8666e-16, 3.2621e-02, 5.9444e-06, 2.5416e-07, 1.8100e-06,\n",
       "         5.8478e-05, 1.2901e-05, 3.4020e-07, 9.6730e-01],\n",
       "        [2.4143e-10, 4.8245e-15, 4.0534e-03, 1.8333e-02, 6.6959e-11, 7.2940e-06,\n",
       "         1.4939e-05, 1.1105e-07, 8.9437e-09, 9.7759e-01],\n",
       "        [8.6372e-12, 1.0286e-11, 2.1070e-06, 9.8160e-01, 3.4683e-07, 1.0428e-02,\n",
       "         7.9313e-05, 3.8224e-05, 2.3377e-07, 7.8512e-03],\n",
       "        [3.1985e-10, 5.7233e-14, 1.1122e-08, 5.2336e-01, 1.1442e-10, 4.7874e-07,\n",
       "         2.0780e-10, 5.2731e-09, 2.7701e-13, 4.7664e-01],\n",
       "        [1.1697e-07, 2.9237e-09, 4.0932e-05, 1.7496e-04, 5.7363e-05, 9.9662e-01,\n",
       "         7.9381e-07, 3.7018e-07, 1.6187e-11, 3.1100e-03],\n",
       "        [3.1734e-09, 1.0633e-15, 1.3931e-05, 4.3346e-01, 1.5127e-11, 3.1265e-03,\n",
       "         3.2925e-08, 1.6275e-01, 2.2198e-09, 4.0066e-01],\n",
       "        [5.4036e-09, 2.0676e-09, 7.0482e-03, 4.9793e-03, 6.4346e-08, 3.7284e-04,\n",
       "         6.7593e-09, 1.3316e-05, 6.2069e-14, 9.8759e-01],\n",
       "        [6.6314e-08, 3.8556e-12, 3.2148e-04, 7.1927e-07, 7.1420e-04, 2.7862e-04,\n",
       "         6.8865e-11, 5.8784e-05, 1.8425e-14, 9.9863e-01],\n",
       "        [4.6639e-09, 5.5288e-12, 5.7848e-09, 2.0439e-02, 1.4933e-11, 9.7893e-01,\n",
       "         2.2434e-07, 1.9300e-08, 4.5230e-09, 6.3056e-04],\n",
       "        [1.6379e-07, 9.7482e-12, 1.6552e-05, 4.8343e-07, 2.6648e-07, 1.1896e-04,\n",
       "         9.5393e-12, 3.4482e-05, 2.8314e-12, 9.9983e-01],\n",
       "        [3.4270e-10, 3.1626e-17, 9.9998e-01, 1.0932e-05, 1.2038e-08, 2.8567e-06,\n",
       "         1.2365e-10, 3.1395e-08, 1.0420e-08, 2.9586e-06],\n",
       "        [3.0760e-08, 6.8169e-16, 7.6996e-04, 1.2379e-01, 1.6545e-09, 3.5890e-08,\n",
       "         9.7677e-06, 2.5768e-05, 7.0246e-10, 8.7541e-01],\n",
       "        [7.9815e-05, 4.8026e-08, 1.0799e-04, 3.1118e-04, 5.0882e-01, 4.8726e-01,\n",
       "         8.8148e-06, 2.4313e-04, 3.6275e-09, 3.1675e-03],\n",
       "        [2.5912e-12, 2.0410e-14, 1.8085e-09, 3.1745e-11, 1.3701e-07, 9.0925e-08,\n",
       "         4.9301e-11, 2.4187e-08, 9.0386e-13, 1.0000e+00],\n",
       "        [3.9785e-08, 4.9225e-13, 1.8045e-01, 2.1024e-01, 3.0622e-12, 7.7126e-04,\n",
       "         1.7131e-05, 5.1580e-05, 7.9861e-09, 6.0847e-01],\n",
       "        [1.7247e-07, 4.8053e-16, 2.6438e-07, 4.9684e-04, 2.7384e-08, 5.2327e-03,\n",
       "         2.0383e-07, 5.1520e-05, 1.7701e-09, 9.9422e-01],\n",
       "        [2.9502e-07, 3.8410e-11, 6.4181e-04, 8.0854e-01, 1.0748e-08, 1.9720e-02,\n",
       "         5.0567e-07, 5.4831e-04, 1.3026e-09, 1.7055e-01],\n",
       "        [3.8676e-07, 9.5603e-12, 1.9786e-05, 9.5936e-01, 8.9096e-08, 2.9109e-02,\n",
       "         2.8150e-09, 1.4208e-08, 1.5021e-11, 1.1506e-02],\n",
       "        [1.4287e-05, 1.3985e-09, 5.3399e-09, 8.0458e-04, 1.9496e-05, 8.1690e-02,\n",
       "         1.5854e-10, 9.2907e-07, 9.9806e-14, 9.1747e-01],\n",
       "        [1.5964e-14, 2.1732e-19, 4.9759e-13, 1.0000e+00, 8.8510e-13, 1.1599e-09,\n",
       "         1.6094e-13, 1.7654e-10, 7.8684e-18, 3.6855e-06],\n",
       "        [1.3494e-06, 2.0957e-13, 3.3277e-05, 1.0530e-02, 5.4209e-02, 9.6222e-05,\n",
       "         2.2231e-06, 2.5024e-02, 2.1547e-07, 9.1010e-01],\n",
       "        [2.7054e-10, 5.7498e-12, 4.2437e-08, 1.0489e-05, 1.7546e-08, 3.5276e-03,\n",
       "         8.7769e-07, 1.1490e-05, 1.9803e-08, 9.9645e-01],\n",
       "        [1.6996e-07, 1.8012e-14, 2.6532e-03, 1.1015e-01, 3.5018e-07, 3.7303e-10,\n",
       "         1.0026e-06, 8.6510e-06, 1.0408e-05, 8.8718e-01],\n",
       "        [9.9703e-11, 9.7108e-16, 8.5118e-08, 1.1115e-02, 8.3464e-10, 1.0616e-05,\n",
       "         3.8125e-07, 1.2515e-06, 2.4425e-10, 9.8887e-01],\n",
       "        [1.5114e-12, 3.2148e-15, 9.9989e-01, 4.6967e-06, 3.1383e-09, 9.0590e-05,\n",
       "         8.7840e-07, 1.0203e-05, 6.4511e-09, 1.2400e-09],\n",
       "        [5.6795e-07, 2.1872e-07, 8.2698e-01, 1.6373e-01, 5.1682e-06, 8.9400e-03,\n",
       "         2.5980e-08, 8.8339e-06, 1.1523e-08, 3.3553e-04],\n",
       "        [1.5076e-12, 7.8226e-13, 3.8384e-04, 5.2019e-07, 2.5328e-06, 2.4966e-07,\n",
       "         1.9644e-03, 2.3775e-05, 8.4490e-10, 9.9762e-01],\n",
       "        [9.6308e-11, 4.9697e-15, 3.2901e-02, 8.1956e-09, 9.7171e-07, 1.1681e-06,\n",
       "         8.3603e-09, 1.2695e-02, 6.2060e-10, 9.5440e-01],\n",
       "        [6.8986e-09, 4.6629e-17, 1.5813e-08, 3.9356e-03, 1.6559e-12, 2.5272e-06,\n",
       "         7.7823e-05, 4.5842e-05, 1.9526e-12, 9.9594e-01],\n",
       "        [1.9325e-10, 9.5139e-15, 1.6551e-08, 6.3056e-03, 4.3631e-10, 7.4626e-07,\n",
       "         2.8521e-09, 9.9803e-07, 1.6820e-12, 9.9369e-01],\n",
       "        [4.5927e-11, 7.6781e-16, 9.9690e-01, 2.4017e-07, 1.5249e-03, 1.4706e-05,\n",
       "         5.5191e-09, 1.9131e-07, 3.8216e-10, 1.5578e-03],\n",
       "        [4.0086e-07, 9.3883e-14, 2.5142e-02, 1.8039e-06, 3.3573e-05, 7.3082e-01,\n",
       "         1.3511e-03, 1.8814e-01, 7.5297e-06, 5.4506e-02],\n",
       "        [4.1334e-10, 3.1164e-16, 2.7424e-11, 8.1101e-04, 1.0152e-08, 6.8366e-05,\n",
       "         1.1591e-07, 2.8759e-05, 8.2907e-11, 9.9909e-01],\n",
       "        [1.1128e-12, 1.0677e-11, 5.3958e-05, 5.2716e-03, 2.0043e-12, 2.0201e-01,\n",
       "         1.7304e-03, 5.7974e-03, 8.0966e-05, 7.8505e-01],\n",
       "        [1.6913e-13, 1.0035e-16, 3.2971e-09, 9.9973e-01, 7.9223e-13, 6.8179e-09,\n",
       "         1.3161e-11, 4.2483e-08, 2.7697e-12, 2.6685e-04],\n",
       "        [5.6372e-10, 2.2609e-12, 9.1604e-06, 4.4422e-09, 3.4402e-03, 5.7621e-03,\n",
       "         4.2057e-08, 2.5090e-05, 6.1615e-10, 9.9076e-01],\n",
       "        [8.2945e-10, 2.6872e-11, 2.7953e-05, 1.7284e-07, 3.3778e-04, 9.7678e-01,\n",
       "         1.4830e-05, 1.5896e-03, 5.4746e-08, 2.1245e-02],\n",
       "        [2.7570e-04, 3.5538e-10, 2.5538e-02, 8.9083e-01, 1.5192e-06, 7.9933e-02,\n",
       "         5.1210e-06, 9.0612e-04, 8.4473e-08, 2.5120e-03],\n",
       "        [1.4118e-10, 7.8657e-17, 6.0285e-05, 9.9991e-01, 9.1056e-11, 3.8774e-07,\n",
       "         1.4041e-09, 8.8950e-07, 2.1599e-11, 3.2324e-05],\n",
       "        [4.7285e-09, 3.1794e-15, 3.5172e-06, 2.9568e-01, 2.9079e-10, 4.7995e-01,\n",
       "         1.0931e-05, 9.6605e-06, 7.3352e-11, 2.2435e-01],\n",
       "        [2.1553e-10, 1.1005e-13, 4.6761e-06, 1.3592e-01, 8.8938e-10, 6.7804e-05,\n",
       "         7.9493e-06, 9.7158e-05, 1.9588e-13, 8.6391e-01],\n",
       "        [4.6165e-06, 1.3491e-13, 8.7839e-02, 8.0999e-01, 1.1253e-07, 3.5194e-03,\n",
       "         1.4321e-05, 7.2580e-02, 9.9810e-09, 2.6055e-02],\n",
       "        [9.3127e-08, 3.5956e-15, 1.1724e-04, 1.1801e-01, 1.0389e-04, 2.5449e-04,\n",
       "         3.8240e-11, 1.0232e-06, 1.3183e-08, 8.8152e-01],\n",
       "        [7.3778e-11, 1.9057e-11, 8.9022e-07, 1.7827e-02, 8.2256e-08, 9.2547e-06,\n",
       "         1.9849e-11, 1.3323e-05, 1.4728e-10, 9.8215e-01],\n",
       "        [6.3689e-12, 1.8421e-15, 9.6009e-10, 2.5145e-05, 1.6909e-11, 1.5105e-04,\n",
       "         3.9709e-08, 1.8217e-07, 1.5836e-11, 9.9982e-01],\n",
       "        [7.6122e-11, 1.0679e-11, 1.7145e-05, 1.3599e-05, 5.6603e-05, 9.7906e-01,\n",
       "         9.4927e-04, 2.0196e-05, 1.6686e-06, 1.9884e-02],\n",
       "        [1.1639e-03, 3.5133e-10, 1.2027e-04, 1.3666e-01, 2.7157e-06, 2.7519e-06,\n",
       "         1.3840e-04, 4.3462e-01, 7.5033e-08, 4.2729e-01],\n",
       "        [8.1264e-08, 2.2061e-14, 1.1912e-02, 8.9223e-08, 3.7749e-07, 1.0533e-05,\n",
       "         1.5129e-09, 1.5441e-02, 4.6664e-10, 9.7264e-01],\n",
       "        [9.4824e-11, 9.0651e-12, 4.2241e-04, 8.1571e-06, 7.9476e-06, 2.0628e-01,\n",
       "         1.6434e-03, 3.8462e-04, 1.0616e-06, 7.9125e-01],\n",
       "        [1.8647e-10, 4.1148e-13, 4.2206e-01, 1.3991e-01, 1.6931e-05, 4.7395e-05,\n",
       "         1.9494e-02, 8.6009e-02, 5.0906e-08, 3.3246e-01]])"
      ]
     },
     "execution_count": 7,
     "metadata": {},
     "output_type": "execute_result"
    }
   ],
   "source": [
    "probabilities"
   ]
  },
  {
   "cell_type": "markdown",
   "metadata": {},
   "source": [
    "## Building networks with PyTorch\n",
    "\n",
    "PyTorch provides a module `nn` that makes building networks much simpler. Here I'll show you how to build the same one as above with 784 inputs, 256 hidden units, 10 output units and a softmax output."
   ]
  },
  {
   "cell_type": "code",
   "execution_count": 8,
   "metadata": {},
   "outputs": [],
   "source": [
    "from torch import nn"
   ]
  },
  {
   "cell_type": "code",
   "execution_count": 9,
   "metadata": {},
   "outputs": [],
   "source": [
    "class Network(nn.Module):\n",
    "    def __init__(self):\n",
    "        super().__init__()\n",
    "        \n",
    "        # Inputs to hidden layer linear transformation\n",
    "        self.hidden = nn.Linear(784, 256)\n",
    "        # Output layer, 10 units - one for each digit\n",
    "        self.output = nn.Linear(256, 10)\n",
    "        \n",
    "        # Define sigmoid activation and softmax output \n",
    "        self.sigmoid = nn.Sigmoid()\n",
    "        self.softmax = nn.Softmax(dim=1)\n",
    "        \n",
    "    def forward(self, x):\n",
    "        # Pass the input tensor through each of our operations\n",
    "        x = self.hidden(x)\n",
    "        x = self.sigmoid(x)\n",
    "        x = self.output(x)\n",
    "        x = self.softmax(x)\n",
    "        \n",
    "        return x"
   ]
  },
  {
   "cell_type": "markdown",
   "metadata": {},
   "source": [
    "Let's go through this bit by bit.\n",
    "\n",
    "```python\n",
    "class Network(nn.Module):\n",
    "```\n",
    "\n",
    "Here we're inheriting from `nn.Module`. Combined with `super().__init__()` this creates a class that tracks the architecture and provides a lot of useful methods and attributes. It is mandatory to inherit from `nn.Module` when you're creating a class for your network. The name of the class itself can be anything.\n",
    "\n",
    "```python\n",
    "self.hidden = nn.Linear(784, 256)\n",
    "```\n",
    "\n",
    "This line creates a module for a linear transformation, $x\\mathbf{W} + b$, with 784 inputs and 256 outputs and assigns it to `self.hidden`. The module automatically creates the weight and bias tensors which we'll use in the `forward` method. You can access the weight and bias tensors once the network (`net`) is created with `net.hidden.weight` and `net.hidden.bias`.\n",
    "\n",
    "```python\n",
    "self.output = nn.Linear(256, 10)\n",
    "```\n",
    "\n",
    "Similarly, this creates another linear transformation with 256 inputs and 10 outputs.\n",
    "\n",
    "```python\n",
    "self.sigmoid = nn.Sigmoid()\n",
    "self.softmax = nn.Softmax(dim=1)\n",
    "```\n",
    "\n",
    "Here I defined operations for the sigmoid activation and softmax output. Setting `dim=1` in `nn.Softmax(dim=1)` calculates softmax across the columns.\n",
    "\n",
    "```python\n",
    "def forward(self, x):\n",
    "```\n",
    "\n",
    "PyTorch networks created with `nn.Module` must have a `forward` method defined. It takes in a tensor `x` and passes it through the operations you defined in the `__init__` method.\n",
    "\n",
    "```python\n",
    "x = self.hidden(x)\n",
    "x = self.sigmoid(x)\n",
    "x = self.output(x)\n",
    "x = self.softmax(x)\n",
    "```\n",
    "\n",
    "Here the input tensor `x` is passed through each operation a reassigned to `x`. We can see that the input tensor goes through the hidden layer, then a sigmoid function, then the output layer, and finally the softmax function. It doesn't matter what you name the variables here, as long as the inputs and outputs of the operations match the network architecture you want to build. The order in which you define things in the `__init__` method doesn't matter, but you'll need to sequence the operations correctly in the `forward` method.\n",
    "\n",
    "Now we can create a `Network` object."
   ]
  },
  {
   "cell_type": "code",
   "execution_count": 10,
   "metadata": {},
   "outputs": [
    {
     "data": {
      "text/plain": [
       "Network(\n",
       "  (hidden): Linear(in_features=784, out_features=256, bias=True)\n",
       "  (output): Linear(in_features=256, out_features=10, bias=True)\n",
       "  (sigmoid): Sigmoid()\n",
       "  (softmax): Softmax()\n",
       ")"
      ]
     },
     "execution_count": 10,
     "metadata": {},
     "output_type": "execute_result"
    }
   ],
   "source": [
    "# Create the network and look at it's text representation\n",
    "model = Network()\n",
    "model"
   ]
  },
  {
   "cell_type": "markdown",
   "metadata": {},
   "source": [
    "You can define the network somewhat more concisely and clearly using the `torch.nn.functional` module. This is the most common way you'll see networks defined as many operations are simple element-wise functions. We normally import this module as `F`, `import torch.nn.functional as F`."
   ]
  },
  {
   "cell_type": "code",
   "execution_count": 11,
   "metadata": {},
   "outputs": [],
   "source": [
    "import torch.nn.functional as F\n",
    "\n",
    "class Network(nn.Module):\n",
    "    def __init__(self):\n",
    "        super().__init__()\n",
    "        # Inputs to hidden layer linear transformation\n",
    "        self.hidden = nn.Linear(784, 256)\n",
    "        # Output layer, 10 units - one for each digit\n",
    "        self.output = nn.Linear(256, 10)\n",
    "        \n",
    "    def forward(self, x):\n",
    "        # Hidden layer with sigmoid activation\n",
    "        x = F.sigmoid(self.hidden(x))\n",
    "        # Output layer with softmax activation\n",
    "        x = F.softmax(self.output(x), dim=1)\n",
    "        \n",
    "        return x"
   ]
  },
  {
   "cell_type": "markdown",
   "metadata": {},
   "source": [
    "### Activation functions\n",
    "\n",
    "So far we've only been looking at the softmax activation, but in general any function can be used as an activation function. The only requirement is that for a network to approximate a non-linear function, the activation functions must be non-linear. Here are a few more examples of common activation functions: Tanh (hyperbolic tangent), and ReLU (rectified linear unit).\n",
    "\n",
    "<img src=\"assets/activation.png\" width=700px>\n",
    "\n",
    "In practice, the ReLU function is used almost exclusively as the activation function for hidden layers."
   ]
  },
  {
   "cell_type": "markdown",
   "metadata": {},
   "source": [
    "### Your Turn to Build a Network\n",
    "\n",
    "<img src=\"assets/mlp_mnist.png\" width=600px>\n",
    "\n",
    "> **Exercise:** Create a network with 784 input units, a hidden layer with 128 units and a ReLU activation, then a hidden layer with 64 units and a ReLU activation, and finally an output layer with a softmax activation as shown above. You can use a ReLU activation with the `nn.ReLU` module or `F.relu` function."
   ]
  },
  {
   "cell_type": "code",
   "execution_count": 12,
   "metadata": {
    "scrolled": true
   },
   "outputs": [
    {
     "data": {
      "text/plain": [
       "Network(\n",
       "  (fc1): Linear(in_features=784, out_features=128, bias=True)\n",
       "  (fc2): Linear(in_features=128, out_features=64, bias=True)\n",
       "  (fc3): Linear(in_features=64, out_features=10, bias=True)\n",
       ")"
      ]
     },
     "execution_count": 12,
     "metadata": {},
     "output_type": "execute_result"
    }
   ],
   "source": [
    "import torch.nn.functional as F\n",
    "from torch import nn\n",
    "\n",
    "## Your solution here\n",
    "class Network(nn.Module):\n",
    "    def __init__(self):\n",
    "        super().__init__()\n",
    "        #Defining the layers 128,64,10 each\n",
    "        self.fc1 = nn.Linear(784,128)\n",
    "        self.fc2 = nn.Linear(128,64)\n",
    "        # Output Layer\n",
    "        self.fc3 = nn.Linear(64,10)\n",
    "\n",
    "    def forward(self, x):\n",
    "        ''' Forward pass, returns output logits'''\n",
    "        \n",
    "        x = self.fc1(x)\n",
    "        x = F.relu(x)\n",
    "        x = self.fc2(x)\n",
    "        x = F.relu(x)\n",
    "        x = self.fc3(x)\n",
    "        x = F.softmax(x, dim=1)\n",
    "        return x\n",
    "    \n",
    "model = Network()\n",
    "model"
   ]
  },
  {
   "cell_type": "markdown",
   "metadata": {},
   "source": [
    "### Initializing weights and biases\n",
    "\n",
    "The weights and such are automatically initialized for you, but it's possible to customize how they are initialized. The weights and biases are tensors attached to the layer you defined, you can get them with `model.fc1.weight` for instance."
   ]
  },
  {
   "cell_type": "code",
   "execution_count": 13,
   "metadata": {},
   "outputs": [
    {
     "name": "stdout",
     "output_type": "stream",
     "text": [
      "Parameter containing:\n",
      "tensor([[-0.0103,  0.0347, -0.0126,  ..., -0.0278,  0.0014, -0.0060],\n",
      "        [ 0.0219, -0.0073, -0.0272,  ...,  0.0217,  0.0332, -0.0100],\n",
      "        [ 0.0152,  0.0156,  0.0093,  ...,  0.0317,  0.0063, -0.0206],\n",
      "        ...,\n",
      "        [-0.0037, -0.0322,  0.0008,  ..., -0.0269,  0.0288, -0.0300],\n",
      "        [-0.0275, -0.0020,  0.0008,  ...,  0.0233, -0.0054,  0.0156],\n",
      "        [ 0.0089,  0.0186,  0.0346,  ..., -0.0293,  0.0009, -0.0087]],\n",
      "       requires_grad=True)\n",
      "Parameter containing:\n",
      "tensor([ 0.0037, -0.0320, -0.0331,  0.0003, -0.0197, -0.0100,  0.0293, -0.0063,\n",
      "         0.0100,  0.0030, -0.0080, -0.0346, -0.0227,  0.0057,  0.0196, -0.0084,\n",
      "        -0.0287,  0.0354, -0.0277, -0.0233, -0.0309, -0.0177,  0.0218, -0.0220,\n",
      "        -0.0327,  0.0231,  0.0005, -0.0079,  0.0006,  0.0223, -0.0194,  0.0305,\n",
      "        -0.0280,  0.0284, -0.0058,  0.0092,  0.0076,  0.0066,  0.0212,  0.0301,\n",
      "         0.0118,  0.0148,  0.0141, -0.0108,  0.0081, -0.0216, -0.0280,  0.0231,\n",
      "        -0.0293,  0.0354,  0.0237,  0.0111,  0.0339, -0.0260, -0.0138,  0.0034,\n",
      "        -0.0205, -0.0100, -0.0280, -0.0343,  0.0171,  0.0269,  0.0272,  0.0226,\n",
      "         0.0189,  0.0081,  0.0210,  0.0283,  0.0280, -0.0084, -0.0023, -0.0017,\n",
      "         0.0160,  0.0351, -0.0275,  0.0058, -0.0003,  0.0231,  0.0206,  0.0018,\n",
      "         0.0140,  0.0230, -0.0291,  0.0307, -0.0114, -0.0052, -0.0171, -0.0345,\n",
      "         0.0293, -0.0164,  0.0247, -0.0192, -0.0082,  0.0313, -0.0245, -0.0052,\n",
      "         0.0236, -0.0265,  0.0084, -0.0011,  0.0177, -0.0275, -0.0014, -0.0092,\n",
      "         0.0141,  0.0348, -0.0353,  0.0093, -0.0149,  0.0351,  0.0084,  0.0248,\n",
      "         0.0110, -0.0281, -0.0229,  0.0035, -0.0118, -0.0163,  0.0332,  0.0353,\n",
      "         0.0134, -0.0059, -0.0198,  0.0155, -0.0344,  0.0066, -0.0279, -0.0226],\n",
      "       requires_grad=True)\n"
     ]
    }
   ],
   "source": [
    "print(model.fc1.weight)\n",
    "print(model.fc1.bias)"
   ]
  },
  {
   "cell_type": "markdown",
   "metadata": {},
   "source": [
    "For custom initialization, we want to modify these tensors in place. These are actually autograd *Variables*, so we need to get back the actual tensors with `model.fc1.weight.data`. Once we have the tensors, we can fill them with zeros (for biases) or random normal values."
   ]
  },
  {
   "cell_type": "code",
   "execution_count": 14,
   "metadata": {},
   "outputs": [
    {
     "data": {
      "text/plain": [
       "tensor([0., 0., 0., 0., 0., 0., 0., 0., 0., 0., 0., 0., 0., 0., 0., 0., 0., 0.,\n",
       "        0., 0., 0., 0., 0., 0., 0., 0., 0., 0., 0., 0., 0., 0., 0., 0., 0., 0.,\n",
       "        0., 0., 0., 0., 0., 0., 0., 0., 0., 0., 0., 0., 0., 0., 0., 0., 0., 0.,\n",
       "        0., 0., 0., 0., 0., 0., 0., 0., 0., 0., 0., 0., 0., 0., 0., 0., 0., 0.,\n",
       "        0., 0., 0., 0., 0., 0., 0., 0., 0., 0., 0., 0., 0., 0., 0., 0., 0., 0.,\n",
       "        0., 0., 0., 0., 0., 0., 0., 0., 0., 0., 0., 0., 0., 0., 0., 0., 0., 0.,\n",
       "        0., 0., 0., 0., 0., 0., 0., 0., 0., 0., 0., 0., 0., 0., 0., 0., 0., 0.,\n",
       "        0., 0.])"
      ]
     },
     "execution_count": 14,
     "metadata": {},
     "output_type": "execute_result"
    }
   ],
   "source": [
    "# Set biases to all zeros\n",
    "model.fc1.bias.data.fill_(0)"
   ]
  },
  {
   "cell_type": "code",
   "execution_count": 15,
   "metadata": {},
   "outputs": [
    {
     "data": {
      "text/plain": [
       "tensor([[-0.0083, -0.0130,  0.0057,  ...,  0.0033, -0.0064, -0.0014],\n",
       "        [ 0.0100,  0.0007, -0.0104,  ...,  0.0019,  0.0035,  0.0032],\n",
       "        [-0.0043,  0.0081, -0.0105,  ..., -0.0125, -0.0086,  0.0130],\n",
       "        ...,\n",
       "        [-0.0135, -0.0124,  0.0058,  ..., -0.0021, -0.0105, -0.0076],\n",
       "        [-0.0110, -0.0031, -0.0057,  ...,  0.0015, -0.0064, -0.0058],\n",
       "        [ 0.0128, -0.0082, -0.0037,  ..., -0.0155,  0.0196, -0.0057]])"
      ]
     },
     "execution_count": 15,
     "metadata": {},
     "output_type": "execute_result"
    }
   ],
   "source": [
    "# sample from random normal with standard dev = 0.01\n",
    "model.fc1.weight.data.normal_(std=0.01)"
   ]
  },
  {
   "cell_type": "markdown",
   "metadata": {},
   "source": [
    "### Forward pass\n",
    "\n",
    "Now that we have a network, let's see what happens when we pass in an image."
   ]
  },
  {
   "cell_type": "code",
   "execution_count": 16,
   "metadata": {},
   "outputs": [
    {
     "data": {
      "image/png": "[encoded data removed]",
      "text/plain": [
       "<Figure size 432x648 with 2 Axes>"
      ]
     },
     "metadata": {
      "image/png": {
       "height": 226,
       "width": 423
      },
      "needs_background": "light"
     },
     "output_type": "display_data"
    }
   ],
   "source": [
    "# Grab some data \n",
    "dataiter = iter(trainloader)\n",
    "images, labels = dataiter.next()\n",
    "\n",
    "# Resize images into a 1D vector, new shape is (batch size, color channels, image pixels) \n",
    "images.resize_(64, 1, 784)\n",
    "# or images.resize_(images.shape[0], 1, 784) to automatically get batch size\n",
    "\n",
    "# Forward pass through the network\n",
    "img_idx = 0\n",
    "ps = model.forward(images[img_idx,:])\n",
    "\n",
    "img = images[img_idx]\n",
    "helper.view_classify(img.view(1, 28, 28), ps)"
   ]
  },
  {
   "cell_type": "markdown",
   "metadata": {},
   "source": [
    "As you can see above, our network has basically no idea what this digit is. It's because we haven't trained it yet, all the weights are random!\n",
    "\n",
    "### Using `nn.Sequential`\n",
    "\n",
    "PyTorch provides a convenient way to build networks like this where a tensor is passed sequentially through operations, `nn.Sequential` ([documentation](https://pytorch.org/docs/master/nn.html#torch.nn.Sequential)). Using this to build the equivalent network:"
   ]
  },
  {
   "cell_type": "code",
   "execution_count": 17,
   "metadata": {},
   "outputs": [
    {
     "name": "stdout",
     "output_type": "stream",
     "text": [
      "Sequential(\n",
      "  (0): Linear(in_features=784, out_features=128, bias=True)\n",
      "  (1): ReLU()\n",
      "  (2): Linear(in_features=128, out_features=64, bias=True)\n",
      "  (3): ReLU()\n",
      "  (4): Linear(in_features=64, out_features=10, bias=True)\n",
      "  (5): Softmax()\n",
      ")\n"
     ]
    },
    {
     "data": {
      "image/png": "[encoded data removed]",
      "text/plain": [
       "<Figure size 432x648 with 2 Axes>"
      ]
     },
     "metadata": {
      "image/png": {
       "height": 226,
       "width": 423
      },
      "needs_background": "light"
     },
     "output_type": "display_data"
    }
   ],
   "source": [
    "# Hyperparameters for our network\n",
    "input_size = 784\n",
    "hidden_sizes = [128, 64]\n",
    "output_size = 10\n",
    "\n",
    "# Build a feed-forward network\n",
    "model = nn.Sequential(nn.Linear(input_size, hidden_sizes[0]),\n",
    "                      nn.ReLU(),\n",
    "                      nn.Linear(hidden_sizes[0], hidden_sizes[1]),\n",
    "                      nn.ReLU(),\n",
    "                      nn.Linear(hidden_sizes[1], output_size),\n",
    "                      nn.Softmax(dim=1))\n",
    "print(model)\n",
    "\n",
    "# Forward pass through the network and display output\n",
    "images, labels = next(iter(trainloader))\n",
    "images.resize_(images.shape[0], 1, 784)\n",
    "ps = model.forward(images[0,:])\n",
    "helper.view_classify(images[0].view(1, 28, 28), ps)"
   ]
  },
  {
   "cell_type": "markdown",
   "metadata": {},
   "source": [
    "Here our model is the same as before: 784 input units, a hidden layer with 128 units, ReLU activation, 64 unit hidden layer, another ReLU, then the output layer with 10 units, and the softmax output.\n",
    "\n",
    "The operations are availble by passing in the appropriate index. For example, if you want to get first Linear operation and look at the weights, you'd use `model[0]`."
   ]
  },
  {
   "cell_type": "code",
   "execution_count": 18,
   "metadata": {},
   "outputs": [
    {
     "name": "stdout",
     "output_type": "stream",
     "text": [
      "Linear(in_features=784, out_features=128, bias=True)\n"
     ]
    },
    {
     "data": {
      "text/plain": [
       "Parameter containing:\n",
       "tensor([[ 0.0007, -0.0353,  0.0068,  ...,  0.0270,  0.0199, -0.0120],\n",
       "        [-0.0176, -0.0230,  0.0171,  ...,  0.0123, -0.0003,  0.0198],\n",
       "        [ 0.0079,  0.0051,  0.0135,  ..., -0.0021,  0.0031,  0.0006],\n",
       "        ...,\n",
       "        [ 0.0351,  0.0331, -0.0164,  ..., -0.0029, -0.0203, -0.0099],\n",
       "        [-0.0122,  0.0114,  0.0169,  ..., -0.0301, -0.0219, -0.0155],\n",
       "        [ 0.0266, -0.0054, -0.0282,  ...,  0.0153, -0.0085,  0.0347]],\n",
       "       requires_grad=True)"
      ]
     },
     "execution_count": 18,
     "metadata": {},
     "output_type": "execute_result"
    }
   ],
   "source": [
    "print(model[0])\n",
    "model[0].weight"
   ]
  },
  {
   "cell_type": "markdown",
   "metadata": {},
   "source": [
    "You can also pass in an `OrderedDict` to name the individual layers and operations, instead of using incremental integers. Note that dictionary keys must be unique, so _each operation must have a different name_."
   ]
  },
  {
   "cell_type": "code",
   "execution_count": 19,
   "metadata": {},
   "outputs": [
    {
     "data": {
      "text/plain": [
       "Sequential(\n",
       "  (fc1): Linear(in_features=784, out_features=128, bias=True)\n",
       "  (relu1): ReLU()\n",
       "  (fc2): Linear(in_features=128, out_features=64, bias=True)\n",
       "  (relu2): ReLU()\n",
       "  (output): Linear(in_features=64, out_features=10, bias=True)\n",
       "  (softmax): Softmax()\n",
       ")"
      ]
     },
     "execution_count": 19,
     "metadata": {},
     "output_type": "execute_result"
    }
   ],
   "source": [
    "from collections import OrderedDict\n",
    "model = nn.Sequential(OrderedDict([\n",
    "                      ('fc1', nn.Linear(input_size, hidden_sizes[0])),\n",
    "                      ('relu1', nn.ReLU()),\n",
    "                      ('fc2', nn.Linear(hidden_sizes[0], hidden_sizes[1])),\n",
    "                      ('relu2', nn.ReLU()),\n",
    "                      ('output', nn.Linear(hidden_sizes[1], output_size)),\n",
    "                      ('softmax', nn.Softmax(dim=1))]))\n",
    "model"
   ]
  },
  {
   "cell_type": "markdown",
   "metadata": {},
   "source": [
    "Now you can access layers either by integer or the name"
   ]
  },
  {
   "cell_type": "code",
   "execution_count": 20,
   "metadata": {},
   "outputs": [
    {
     "name": "stdout",
     "output_type": "stream",
     "text": [
      "Linear(in_features=784, out_features=128, bias=True)\n",
      "Linear(in_features=784, out_features=128, bias=True)\n"
     ]
    }
   ],
   "source": [
    "print(model[0])\n",
    "print(model.fc1)"
   ]
  },
  {
   "cell_type": "markdown",
   "metadata": {},
   "source": [
    "In the next notebook, we'll see how we can train a neural network to accuractly predict the numbers appearing in the MNIST images."
   ]
  }
 ],
 "metadata": {
  "kernelspec": {
   "display_name": "Python 3",
   "language": "python",
   "name": "python3"
  },
  "language_info": {
   "codemirror_mode": {
    "name": "ipython",
    "version": 3
   },
   "file_extension": ".py",
   "mimetype": "text/x-python",
   "name": "python",
   "nbconvert_exporter": "python",
   "pygments_lexer": "ipython3",
   "version": "3.6.6"
  }
 },
 "nbformat": 4,
 "nbformat_minor": 2
}
