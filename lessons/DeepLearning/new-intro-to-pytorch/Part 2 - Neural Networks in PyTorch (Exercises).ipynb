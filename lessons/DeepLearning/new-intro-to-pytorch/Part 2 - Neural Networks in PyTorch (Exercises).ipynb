{
 "cells": [
  {
   "cell_type": "markdown",
   "metadata": {},
   "source": [
    "# Neural networks with PyTorch\n",
    "\n",
    "Deep learning networks tend to be massive with dozens or hundreds of layers, that's where the term \"deep\" comes from. You can build one of these deep networks using only weight matrices as we did in the previous notebook, but in general it's very cumbersome and difficult to implement. PyTorch has a nice module `nn` that provides a nice way to efficiently build large neural networks."
   ]
  },
  {
   "cell_type": "code",
   "execution_count": 1,
   "metadata": {},
   "outputs": [],
   "source": [
    "# Import necessary packages\n",
    "\n",
    "%matplotlib inline\n",
    "%config InlineBackend.figure_format = 'retina'\n",
    "\n",
    "import numpy as np\n",
    "import torch\n",
    "\n",
    "import helper\n",
    "\n",
    "import matplotlib.pyplot as plt"
   ]
  },
  {
   "cell_type": "markdown",
   "metadata": {},
   "source": [
    "\n",
    "Now we're going to build a larger network that can solve a (formerly) difficult problem, identifying text in an image. Here we'll use the MNIST dataset which consists of greyscale handwritten digits. Each image is 28x28 pixels, you can see a sample below\n",
    "\n",
    "<img src='assets/mnist.png'>\n",
    "\n",
    "Our goal is to build a neural network that can take one of these images and predict the digit in the image.\n",
    "\n",
    "First up, we need to get our dataset. This is provided through the `torchvision` package. The code below will download the MNIST dataset, then create training and test datasets for us. Don't worry too much about the details here, you'll learn more about this later."
   ]
  },
  {
   "cell_type": "code",
   "execution_count": 2,
   "metadata": {},
   "outputs": [],
   "source": [
    "### Run this cell\n",
    "\n",
    "from torchvision import datasets, transforms\n",
    "\n",
    "# Define a transform to normalize the data\n",
    "transform = transforms.Compose([transforms.ToTensor(),\n",
    "                              transforms.Normalize((0.5,), (0.5,)),\n",
    "                              ])\n",
    "\n",
    "# Download and load the training data\n",
    "trainset = datasets.MNIST('~/.pytorch/MNIST_data/', download=True, train=True, transform=transform)\n",
    "trainloader = torch.utils.data.DataLoader(trainset, batch_size=64, shuffle=True)"
   ]
  },
  {
   "cell_type": "markdown",
   "metadata": {},
   "source": [
    "We have the training data loaded into `trainloader` and we make that an iterator with `iter(trainloader)`. Later, we'll use this to loop through the dataset for training, like\n",
    "\n",
    "```python\n",
    "for image, label in trainloader:\n",
    "    ## do things with images and labels\n",
    "```\n",
    "\n",
    "You'll notice I created the `trainloader` with a batch size of 64, and `shuffle=True`. The batch size is the number of images we get in one iteration from the data loader and pass through our network, often called a *batch*. And `shuffle=True` tells it to shuffle the dataset every time we start going through the data loader again. But here I'm just grabbing the first batch so we can check out the data. We can see below that `images` is just a tensor with size `(64, 1, 28, 28)`. So, 64 images per batch, 1 color channel, and 28x28 images."
   ]
  },
  {
   "cell_type": "code",
   "execution_count": 3,
   "metadata": {},
   "outputs": [
    {
     "name": "stdout",
     "output_type": "stream",
     "text": [
      "<class 'torch.Tensor'>\n",
      "torch.Size([64, 1, 28, 28])\n",
      "torch.Size([64])\n"
     ]
    }
   ],
   "source": [
    "dataiter = iter(trainloader)\n",
    "images, labels = dataiter.next()\n",
    "print(type(images))\n",
    "print(images.shape)\n",
    "print(labels.shape)"
   ]
  },
  {
   "cell_type": "markdown",
   "metadata": {},
   "source": [
    "This is what one of the images looks like. "
   ]
  },
  {
   "cell_type": "code",
   "execution_count": 4,
   "metadata": {},
   "outputs": [
    {
     "data": {
      "image/png": "[encoded data removed]",
      "text/plain": [
       "<Figure size 432x288 with 1 Axes>"
      ]
     },
     "metadata": {
      "image/png": {
       "height": 250,
       "width": 253
      },
      "needs_background": "light"
     },
     "output_type": "display_data"
    }
   ],
   "source": [
    "plt.imshow(images[1].numpy().squeeze(), cmap='Greys_r');"
   ]
  },
  {
   "cell_type": "markdown",
   "metadata": {},
   "source": [
    "First, let's try to build a simple network for this dataset using weight matrices and matrix multiplications. Then, we'll see how to do it using PyTorch's `nn` module which provides a much more convenient and powerful method for defining network architectures.\n",
    "\n",
    "The networks you've seen so far are called *fully-connected* or *dense* networks. Each unit in one layer is connected to each unit in the next layer. In fully-connected networks, the input to each layer must be a one-dimensional vector (which can be stacked into a 2D tensor as a batch of multiple examples). However, our images are 28x28 2D tensors, so we need to convert them into 1D vectors. Thinking about sizes, we need to convert the batch of images with shape `(64, 1, 28, 28)` to a have a shape of `(64, 784)`, 784 is 28 times 28. This is typically called *flattening*, we flattened the 2D images into 1D vectors.\n",
    "\n",
    "Previously you built a network with one output unit. Here we need 10 output units, one for each digit. We want our network to predict the digit shown in an image, so what we'll do is calculate probabilities that the image is of any one digit or class. This ends up being a discrete probability distribution over the classes (digits) that tells us the most likely class for the image. That means we need 10 output units for the 10 classes (digits). We'll see how to convert the network output into a probability distribution next.\n",
    "\n",
    "> **Exercise:** Flatten the batch of images `images`. Then build a multi-layer network with 784 input units, 256 hidden units, and 10 output units using random tensors for the weights and biases. For now, use a sigmoid activation for the hidden layer. Leave the output layer without an activation, we'll add one that gives us a probability distribution next."
   ]
  },
  {
   "cell_type": "code",
   "execution_count": 5,
   "metadata": {},
   "outputs": [
    {
     "data": {
      "text/plain": [
       "torch.Size([64, 10])"
      ]
     },
     "execution_count": 5,
     "metadata": {},
     "output_type": "execute_result"
    }
   ],
   "source": [
    "def act(x):\n",
    "    return 1/(1+torch.exp(-x))\n",
    "\n",
    "## Your solution\n",
    "inputs = images.view(images.shape[0], -1)\n",
    "\n",
    "n_input = 784\n",
    "n_hidden = 256\n",
    "n_output = 10\n",
    "\n",
    "torch.manual_seed(2)\n",
    "w1 = torch.randn(n_input,n_hidden)\n",
    "b1 = torch.randn(n_hidden)\n",
    "w2 = torch.randn(n_hidden,n_output)\n",
    "b2 = torch.randn(n_output)\n",
    "\n",
    "h = act(torch.mm(inputs,w1) + b1)\n",
    "\n",
    "out = torch.mm(h, w2) + b2\n",
    "out.shape\n",
    "# output of your network, should have shape (64,10)"
   ]
  },
  {
   "cell_type": "markdown",
   "metadata": {},
   "source": [
    "Now we have 10 outputs for our network. We want to pass in an image to our network and get out a probability distribution over the classes that tells us the likely class(es) the image belongs to. Something that looks like this:\n",
    "<img src='assets/image_distribution.png' width=500px>\n",
    "\n",
    "Here we see that the probability for each class is roughly the same. This is representing an untrained network, it hasn't seen any data yet so it just returns a uniform distribution with equal probabilities for each class.\n",
    "\n",
    "To calculate this probability distribution, we often use the [**softmax** function](https://en.wikipedia.org/wiki/Softmax_function). Mathematically this looks like\n",
    "\n",
    "$$\n",
    "\\Large \\sigma(x_i) = \\cfrac{e^{x_i}}{\\sum_k^K{e^{x_k}}}\n",
    "$$\n",
    "\n",
    "What this does is squish each input $x_i$ between 0 and 1 and normalizes the values to give you a proper probability distribution where the probabilites sum up to one.\n",
    "\n",
    "> **Exercise:** Implement a function `softmax` that performs the softmax calculation and returns probability distributions for each example in the batch. Note that you'll need to pay attention to the shapes when doing this. If you have a tensor `a` with shape `(64, 10)` and a tensor `b` with shape `(64,)`, doing `a/b` will give you an error because PyTorch will try to do the division across the columns (called broadcasting) but you'll get a size mismatch. The way to think about this is for each of the 64 examples, you only want to divide by one value, the sum in the denominator. So you need `b` to have a shape of `(64, 1)`. This way PyTorch will divide the 10 values in each row of `a` by the one value in each row of `b`. Pay attention to how you take the sum as well. You'll need to define the `dim` keyword in `torch.sum`. Setting `dim=0` takes the sum across the rows while `dim=1` takes the sum across the columns."
   ]
  },
  {
   "cell_type": "code",
   "execution_count": 6,
   "metadata": {},
   "outputs": [
    {
     "name": "stdout",
     "output_type": "stream",
     "text": [
      "torch.Size([64, 10])\n",
      "tensor([1.0000, 1.0000, 1.0000, 1.0000, 1.0000, 1.0000, 1.0000, 1.0000, 1.0000,\n",
      "        1.0000, 1.0000, 1.0000, 1.0000, 1.0000, 1.0000, 1.0000, 1.0000, 1.0000,\n",
      "        1.0000, 1.0000, 1.0000, 1.0000, 1.0000, 1.0000, 1.0000, 1.0000, 1.0000,\n",
      "        1.0000, 1.0000, 1.0000, 1.0000, 1.0000, 1.0000, 1.0000, 1.0000, 1.0000,\n",
      "        1.0000, 1.0000, 1.0000, 1.0000, 1.0000, 1.0000, 1.0000, 1.0000, 1.0000,\n",
      "        1.0000, 1.0000, 1.0000, 1.0000, 1.0000, 1.0000, 1.0000, 1.0000, 1.0000,\n",
      "        1.0000, 1.0000, 1.0000, 1.0000, 1.0000, 1.0000, 1.0000, 1.0000, 1.0000,\n",
      "        1.0000])\n"
     ]
    }
   ],
   "source": [
    "def softmax(x):\n",
    "    return torch.exp(x)/torch.exp(x).sum(dim=1).view(-1,1)\n",
    "    ## TODO: Implement the softmax function here\n",
    "\n",
    "# Here, out should be the output of the network in the previous excercise with shape (64,10)\n",
    "probabilities = softmax(out)\n",
    "\n",
    "# Does it have the right shape? Should be (64, 10)\n",
    "print(probabilities.shape)\n",
    "# Does it sum to 1?\n",
    "print(probabilities.sum(dim=1))"
   ]
  },
  {
   "cell_type": "code",
   "execution_count": 7,
   "metadata": {},
   "outputs": [
    {
     "data": {
      "text/plain": [
       "tensor([[3.6964e-08, 5.1817e-10, 1.8734e-07, 1.7440e-01, 6.2636e-06, 8.0361e-01,\n",
       "         2.1204e-02, 7.8202e-04, 3.6740e-07, 1.4464e-06],\n",
       "        [2.8367e-11, 3.3087e-13, 1.6779e-03, 9.0342e-03, 2.6026e-08, 1.0180e-07,\n",
       "         2.2794e-08, 3.6609e-02, 1.1902e-09, 9.5268e-01],\n",
       "        [1.1065e-09, 1.0371e-11, 5.2004e-05, 8.7039e-01, 4.3781e-09, 1.5775e-04,\n",
       "         7.0240e-09, 2.7640e-08, 1.1407e-12, 1.2940e-01],\n",
       "        [3.9027e-06, 1.8867e-09, 1.0288e-05, 5.4104e-01, 3.6953e-04, 4.5544e-01,\n",
       "         3.4026e-05, 9.9393e-06, 2.8250e-08, 3.0912e-03],\n",
       "        [1.3400e-10, 3.5554e-12, 9.1929e-01, 1.8469e-02, 1.1852e-08, 8.2981e-06,\n",
       "         1.3078e-03, 6.0835e-02, 1.6864e-10, 8.5997e-05],\n",
       "        [4.1995e-07, 2.6122e-09, 3.6145e-03, 9.9574e-01, 1.7297e-06, 2.3186e-04,\n",
       "         9.6164e-07, 2.4585e-09, 1.8220e-09, 4.0660e-04],\n",
       "        [2.9186e-11, 5.3255e-13, 3.6428e-05, 9.9812e-01, 1.4626e-10, 2.0841e-05,\n",
       "         2.0119e-05, 1.5044e-05, 2.1721e-13, 1.7886e-03],\n",
       "        [1.4794e-08, 2.9056e-13, 1.1066e-04, 1.9817e-01, 3.6045e-07, 4.6347e-03,\n",
       "         3.7229e-09, 2.7232e-06, 3.0158e-06, 7.9708e-01],\n",
       "        [1.7628e-08, 9.9659e-11, 5.1100e-11, 4.8994e-07, 1.3143e-08, 1.4282e-03,\n",
       "         6.5829e-09, 2.3151e-05, 3.3520e-14, 9.9855e-01],\n",
       "        [5.8671e-07, 6.2431e-10, 2.2621e-02, 5.0613e-04, 1.5903e-03, 6.9471e-02,\n",
       "         3.5499e-04, 1.8901e-03, 2.3842e-07, 9.0357e-01],\n",
       "        [1.3911e-07, 3.8986e-09, 1.4575e-04, 3.0575e-03, 1.0105e-07, 2.9361e-02,\n",
       "         9.3821e-07, 4.6461e-03, 1.9490e-12, 9.6279e-01],\n",
       "        [4.4355e-11, 5.4466e-15, 1.3541e-09, 1.6228e-03, 6.4700e-09, 2.7198e-07,\n",
       "         1.0407e-08, 2.1395e-05, 2.7186e-09, 9.9836e-01],\n",
       "        [4.3349e-07, 2.9021e-14, 1.2088e-06, 6.2069e-07, 4.7162e-05, 7.5143e-07,\n",
       "         2.8962e-10, 2.1053e-02, 5.6074e-11, 9.7890e-01],\n",
       "        [3.3888e-04, 2.1473e-09, 5.7419e-04, 8.4839e-03, 1.3600e-06, 3.3695e-01,\n",
       "         1.9010e-06, 3.1456e-03, 1.4866e-08, 6.5051e-01],\n",
       "        [7.5192e-06, 1.5365e-11, 9.3136e-01, 8.8248e-05, 8.4765e-05, 6.5848e-02,\n",
       "         1.8453e-05, 2.2764e-03, 6.7553e-07, 3.1597e-04],\n",
       "        [2.4255e-06, 1.0752e-15, 5.3765e-07, 4.5566e-01, 4.7972e-11, 5.5139e-04,\n",
       "         1.5479e-04, 1.4213e-05, 3.0580e-08, 5.4362e-01],\n",
       "        [5.7569e-09, 8.6616e-09, 4.1456e-04, 8.3536e-01, 5.4055e-06, 1.6421e-01,\n",
       "         1.1070e-06, 8.0205e-08, 6.3674e-11, 4.4384e-07],\n",
       "        [5.5927e-09, 3.2837e-10, 2.1575e-05, 4.9804e-06, 1.5087e-06, 3.6614e-04,\n",
       "         1.7373e-06, 7.0682e-05, 7.3953e-11, 9.9953e-01],\n",
       "        [5.8104e-07, 2.0970e-09, 1.0690e-05, 1.1678e-05, 1.7282e-05, 1.1175e-05,\n",
       "         1.6135e-06, 2.4846e-06, 1.6646e-10, 9.9994e-01],\n",
       "        [7.9145e-08, 3.2055e-08, 1.2058e-01, 4.9352e-05, 2.9720e-03, 4.4408e-04,\n",
       "         2.9351e-04, 4.4576e-05, 1.2960e-05, 8.7560e-01],\n",
       "        [1.1395e-08, 9.6128e-21, 5.6466e-09, 2.6173e-07, 5.7922e-13, 1.8009e-14,\n",
       "         1.2824e-11, 6.1943e-07, 9.4237e-13, 1.0000e+00],\n",
       "        [3.6237e-12, 2.4032e-11, 1.6428e-04, 1.7297e-02, 3.0098e-06, 6.5395e-05,\n",
       "         1.7455e-01, 2.6378e-02, 1.7795e-11, 7.8154e-01],\n",
       "        [2.5329e-09, 5.0665e-16, 9.5260e-05, 7.7192e-05, 1.7738e-05, 1.1492e-04,\n",
       "         1.0668e-08, 6.0987e-07, 8.3215e-13, 9.9969e-01],\n",
       "        [4.1997e-07, 3.4691e-11, 8.4911e-03, 9.7629e-01, 5.0551e-10, 1.3018e-04,\n",
       "         5.2394e-08, 4.2130e-06, 4.3224e-08, 1.5080e-02],\n",
       "        [4.5394e-12, 1.2567e-13, 1.9241e-04, 4.6368e-02, 1.3913e-08, 3.1138e-02,\n",
       "         2.9795e-03, 1.1381e-03, 6.1719e-07, 9.1818e-01],\n",
       "        [3.4888e-09, 1.2137e-16, 8.6464e-05, 5.5615e-03, 1.1014e-09, 9.8999e-01,\n",
       "         1.3228e-08, 2.4624e-03, 9.9741e-09, 1.9016e-03],\n",
       "        [3.4232e-10, 3.3222e-12, 1.2320e-05, 1.3137e-01, 5.1034e-08, 9.4781e-07,\n",
       "         1.8108e-03, 4.8624e-06, 5.8888e-12, 8.6680e-01],\n",
       "        [2.2115e-07, 1.8513e-17, 8.9647e-06, 2.0408e-01, 3.4337e-12, 4.6115e-07,\n",
       "         7.4965e-06, 1.7378e-06, 2.5987e-04, 7.9565e-01],\n",
       "        [1.8624e-10, 1.8159e-10, 6.0607e-10, 5.4373e-06, 2.9758e-11, 9.9199e-01,\n",
       "         1.8173e-03, 5.9247e-03, 1.4625e-09, 2.6390e-04],\n",
       "        [2.7080e-11, 2.1816e-20, 1.7436e-11, 3.4798e-05, 1.1839e-14, 2.8883e-04,\n",
       "         2.5067e-08, 1.2226e-06, 1.0601e-10, 9.9968e-01],\n",
       "        [1.5082e-07, 1.3144e-13, 3.1716e-09, 6.4964e-02, 1.2759e-08, 8.8025e-06,\n",
       "         2.0771e-06, 1.2946e-04, 2.5241e-10, 9.3490e-01],\n",
       "        [5.5740e-13, 2.4632e-16, 5.6576e-09, 1.0654e-04, 1.1542e-09, 3.8083e-09,\n",
       "         1.0135e-07, 9.2252e-05, 1.6780e-11, 9.9980e-01],\n",
       "        [1.1688e-06, 8.3517e-14, 1.9766e-05, 1.5661e-03, 8.2954e-06, 3.4792e-03,\n",
       "         1.8698e-05, 3.3296e-04, 8.8890e-04, 9.9368e-01],\n",
       "        [1.1034e-08, 1.5302e-12, 4.3366e-04, 8.1980e-01, 3.8597e-07, 8.6853e-02,\n",
       "         2.1957e-06, 3.7777e-06, 5.0019e-10, 9.2907e-02],\n",
       "        [2.9644e-09, 3.2223e-14, 1.8044e-05, 6.5562e-01, 2.4690e-08, 5.4606e-03,\n",
       "         1.0317e-11, 6.1307e-07, 8.6834e-11, 3.3890e-01],\n",
       "        [1.8922e-07, 2.3928e-08, 1.6288e-06, 6.4820e-02, 9.5331e-06, 6.9388e-05,\n",
       "         1.4405e-09, 2.0852e-05, 3.4947e-09, 9.3508e-01],\n",
       "        [4.1776e-09, 5.9163e-15, 1.0350e-05, 1.7745e-04, 1.0096e-06, 9.1154e-11,\n",
       "         4.0144e-05, 9.9973e-01, 1.3439e-10, 4.5780e-05],\n",
       "        [3.4904e-07, 7.0070e-13, 4.1632e-05, 1.0522e-06, 7.3934e-08, 1.4074e-01,\n",
       "         7.6059e-07, 1.9602e-02, 2.8957e-09, 8.3962e-01],\n",
       "        [4.3574e-10, 2.2876e-14, 5.6810e-05, 9.9602e-01, 1.8793e-07, 7.5097e-06,\n",
       "         3.9685e-09, 1.4478e-08, 2.1363e-10, 3.9192e-03],\n",
       "        [3.6670e-08, 1.5402e-10, 2.9663e-06, 1.5395e-02, 1.4513e-03, 9.4930e-01,\n",
       "         4.9383e-06, 7.2425e-04, 1.4062e-06, 3.3123e-02],\n",
       "        [9.5076e-09, 5.7114e-12, 1.9054e-05, 3.3489e-03, 3.8105e-07, 6.1134e-02,\n",
       "         2.2586e-07, 1.3605e-06, 9.9215e-10, 9.3550e-01],\n",
       "        [1.2328e-05, 1.1449e-09, 9.4938e-01, 1.4904e-02, 9.9368e-05, 6.5343e-05,\n",
       "         1.9002e-06, 4.6732e-06, 1.2054e-03, 3.4327e-02],\n",
       "        [2.2493e-08, 2.9120e-13, 2.5398e-04, 7.9413e-01, 3.3262e-07, 9.0944e-02,\n",
       "         2.7943e-10, 3.6766e-07, 5.1225e-10, 1.1467e-01],\n",
       "        [4.5620e-09, 6.7768e-14, 1.5851e-05, 4.1300e-02, 4.3991e-07, 2.9395e-05,\n",
       "         1.0310e-06, 2.2058e-05, 4.8674e-09, 9.5863e-01],\n",
       "        [2.6860e-11, 8.3003e-18, 6.6954e-06, 4.9073e-05, 8.2481e-11, 2.7030e-08,\n",
       "         3.7101e-08, 1.0379e-05, 1.1014e-13, 9.9993e-01],\n",
       "        [8.0309e-08, 1.4438e-15, 9.9740e-01, 7.8260e-05, 2.8655e-10, 2.0462e-07,\n",
       "         2.1597e-05, 1.7778e-04, 7.8361e-08, 2.3179e-03],\n",
       "        [2.1434e-07, 2.9821e-12, 3.3052e-04, 2.3168e-01, 1.8835e-06, 2.4692e-02,\n",
       "         7.3589e-07, 5.4921e-07, 4.8719e-11, 7.4330e-01],\n",
       "        [1.7637e-09, 6.1279e-13, 2.6745e-03, 3.4995e-02, 8.0188e-10, 2.7816e-02,\n",
       "         1.4027e-07, 8.7912e-09, 3.4276e-09, 9.3451e-01],\n",
       "        [5.4643e-03, 9.3501e-14, 5.8007e-08, 2.7113e-03, 9.3802e-09, 2.6853e-05,\n",
       "         1.4962e-04, 6.3930e-01, 1.5805e-08, 3.5234e-01],\n",
       "        [2.4744e-10, 3.0510e-12, 1.5491e-01, 3.4833e-04, 4.5481e-07, 5.3811e-06,\n",
       "         1.5979e-09, 3.9820e-05, 7.2059e-10, 8.4470e-01],\n",
       "        [8.0784e-12, 6.3618e-13, 1.6962e-06, 2.8815e-03, 5.3922e-09, 5.9886e-06,\n",
       "         8.1008e-07, 5.0855e-03, 1.4335e-12, 9.9202e-01],\n",
       "        [2.0898e-10, 2.3938e-12, 2.0417e-03, 3.2673e-01, 1.1573e-07, 1.0787e-07,\n",
       "         1.1995e-01, 8.5104e-02, 2.8703e-07, 4.6617e-01],\n",
       "        [3.5085e-13, 3.2072e-13, 9.9928e-01, 1.3396e-07, 4.2951e-07, 3.4100e-06,\n",
       "         2.5250e-07, 3.9974e-04, 1.2525e-06, 3.1499e-04],\n",
       "        [8.0616e-11, 1.0070e-14, 6.7516e-06, 8.3532e-01, 2.4048e-09, 1.4415e-01,\n",
       "         1.4679e-05, 8.5691e-05, 1.2540e-07, 2.0422e-02],\n",
       "        [6.6835e-08, 1.0751e-09, 2.5215e-05, 2.2479e-03, 3.7833e-06, 8.8106e-04,\n",
       "         1.7587e-05, 7.3119e-01, 3.3281e-11, 2.6564e-01],\n",
       "        [4.4055e-11, 7.9752e-10, 5.5199e-09, 7.0991e-05, 1.1817e-08, 4.2900e-06,\n",
       "         1.8770e-07, 5.1550e-05, 1.2466e-11, 9.9987e-01],\n",
       "        [2.4773e-09, 3.6207e-11, 6.8991e-08, 6.6901e-04, 1.9986e-06, 8.0651e-04,\n",
       "         8.0887e-08, 6.0059e-02, 1.0263e-10, 9.3846e-01],\n",
       "        [2.1398e-10, 2.8137e-12, 5.2249e-10, 4.2810e-05, 4.5851e-12, 8.1319e-04,\n",
       "         1.3021e-05, 3.8809e-04, 1.9076e-07, 9.9874e-01],\n",
       "        [1.2624e-09, 4.1950e-14, 2.0750e-02, 8.9501e-03, 1.2004e-07, 2.8853e-01,\n",
       "         6.0099e-06, 2.9012e-03, 2.1358e-09, 6.7886e-01],\n",
       "        [3.5696e-12, 6.5681e-13, 1.3161e-07, 5.7842e-05, 1.4212e-07, 6.2121e-03,\n",
       "         1.8568e-06, 8.3158e-01, 1.5156e-10, 1.6215e-01],\n",
       "        [3.2019e-08, 3.6540e-17, 9.0503e-01, 5.5447e-02, 5.3671e-08, 1.2899e-05,\n",
       "         5.4205e-05, 1.8719e-02, 6.8550e-08, 2.0740e-02],\n",
       "        [8.4249e-09, 2.8082e-14, 3.3921e-06, 2.6988e-03, 3.6514e-08, 9.0607e-05,\n",
       "         1.3786e-08, 9.0126e-07, 3.7839e-07, 9.9721e-01],\n",
       "        [2.1503e-10, 9.1377e-15, 4.1662e-10, 9.5383e-06, 4.3493e-11, 8.5127e-07,\n",
       "         8.7716e-03, 6.1353e-03, 2.5387e-11, 9.8508e-01],\n",
       "        [5.3720e-12, 1.1093e-12, 2.6954e-05, 1.2707e-03, 2.5482e-09, 1.6989e-08,\n",
       "         4.5715e-04, 4.1341e-06, 1.6971e-10, 9.9824e-01]])"
      ]
     },
     "execution_count": 7,
     "metadata": {},
     "output_type": "execute_result"
    }
   ],
   "source": [
    "probabilities"
   ]
  },
  {
   "cell_type": "markdown",
   "metadata": {},
   "source": [
    "## Building networks with PyTorch\n",
    "\n",
    "PyTorch provides a module `nn` that makes building networks much simpler. Here I'll show you how to build the same one as above with 784 inputs, 256 hidden units, 10 output units and a softmax output."
   ]
  },
  {
   "cell_type": "code",
   "execution_count": 8,
   "metadata": {},
   "outputs": [],
   "source": [
    "from torch import nn"
   ]
  },
  {
   "cell_type": "code",
   "execution_count": 9,
   "metadata": {},
   "outputs": [],
   "source": [
    "class Network(nn.Module):\n",
    "    def __init__(self):\n",
    "        super().__init__()\n",
    "        \n",
    "        # Inputs to hidden layer linear transformation\n",
    "        self.hidden = nn.Linear(784, 256)\n",
    "        # Output layer, 10 units - one for each digit\n",
    "        self.output = nn.Linear(256, 10)\n",
    "        \n",
    "        # Define sigmoid activation and softmax output \n",
    "        self.sigmoid = nn.Sigmoid()\n",
    "        self.softmax = nn.Softmax(dim=1)\n",
    "        \n",
    "    def forward(self, x):\n",
    "        # Pass the input tensor through each of our operations\n",
    "        x = self.hidden(x)\n",
    "        x = self.sigmoid(x)\n",
    "        x = self.output(x)\n",
    "        x = self.softmax(x)\n",
    "        \n",
    "        return x"
   ]
  },
  {
   "cell_type": "markdown",
   "metadata": {},
   "source": [
    "Let's go through this bit by bit.\n",
    "\n",
    "```python\n",
    "class Network(nn.Module):\n",
    "```\n",
    "\n",
    "Here we're inheriting from `nn.Module`. Combined with `super().__init__()` this creates a class that tracks the architecture and provides a lot of useful methods and attributes. It is mandatory to inherit from `nn.Module` when you're creating a class for your network. The name of the class itself can be anything.\n",
    "\n",
    "```python\n",
    "self.hidden = nn.Linear(784, 256)\n",
    "```\n",
    "\n",
    "This line creates a module for a linear transformation, $x\\mathbf{W} + b$, with 784 inputs and 256 outputs and assigns it to `self.hidden`. The module automatically creates the weight and bias tensors which we'll use in the `forward` method. You can access the weight and bias tensors once the network (`net`) is created with `net.hidden.weight` and `net.hidden.bias`.\n",
    "\n",
    "```python\n",
    "self.output = nn.Linear(256, 10)\n",
    "```\n",
    "\n",
    "Similarly, this creates another linear transformation with 256 inputs and 10 outputs.\n",
    "\n",
    "```python\n",
    "self.sigmoid = nn.Sigmoid()\n",
    "self.softmax = nn.Softmax(dim=1)\n",
    "```\n",
    "\n",
    "Here I defined operations for the sigmoid activation and softmax output. Setting `dim=1` in `nn.Softmax(dim=1)` calculates softmax across the columns.\n",
    "\n",
    "```python\n",
    "def forward(self, x):\n",
    "```\n",
    "\n",
    "PyTorch networks created with `nn.Module` must have a `forward` method defined. It takes in a tensor `x` and passes it through the operations you defined in the `__init__` method.\n",
    "\n",
    "```python\n",
    "x = self.hidden(x)\n",
    "x = self.sigmoid(x)\n",
    "x = self.output(x)\n",
    "x = self.softmax(x)\n",
    "```\n",
    "\n",
    "Here the input tensor `x` is passed through each operation a reassigned to `x`. We can see that the input tensor goes through the hidden layer, then a sigmoid function, then the output layer, and finally the softmax function. It doesn't matter what you name the variables here, as long as the inputs and outputs of the operations match the network architecture you want to build. The order in which you define things in the `__init__` method doesn't matter, but you'll need to sequence the operations correctly in the `forward` method.\n",
    "\n",
    "Now we can create a `Network` object."
   ]
  },
  {
   "cell_type": "code",
   "execution_count": 10,
   "metadata": {},
   "outputs": [
    {
     "data": {
      "text/plain": [
       "Network(\n",
       "  (hidden): Linear(in_features=784, out_features=256, bias=True)\n",
       "  (output): Linear(in_features=256, out_features=10, bias=True)\n",
       "  (sigmoid): Sigmoid()\n",
       "  (softmax): Softmax()\n",
       ")"
      ]
     },
     "execution_count": 10,
     "metadata": {},
     "output_type": "execute_result"
    }
   ],
   "source": [
    "# Create the network and look at it's text representation\n",
    "model = Network()\n",
    "model"
   ]
  },
  {
   "cell_type": "markdown",
   "metadata": {},
   "source": [
    "You can define the network somewhat more concisely and clearly using the `torch.nn.functional` module. This is the most common way you'll see networks defined as many operations are simple element-wise functions. We normally import this module as `F`, `import torch.nn.functional as F`."
   ]
  },
  {
   "cell_type": "code",
   "execution_count": 11,
   "metadata": {},
   "outputs": [],
   "source": [
    "import torch.nn.functional as F\n",
    "\n",
    "class Network(nn.Module):\n",
    "    def __init__(self):\n",
    "        super().__init__()\n",
    "        # Inputs to hidden layer linear transformation\n",
    "        self.hidden = nn.Linear(784, 256)\n",
    "        # Output layer, 10 units - one for each digit\n",
    "        self.output = nn.Linear(256, 10)\n",
    "        \n",
    "    def forward(self, x):\n",
    "        # Hidden layer with sigmoid activation\n",
    "        x = F.sigmoid(self.hidden(x))\n",
    "        # Output layer with softmax activation\n",
    "        x = F.softmax(self.output(x), dim=1)\n",
    "        \n",
    "        return x"
   ]
  },
  {
   "cell_type": "markdown",
   "metadata": {},
   "source": [
    "### Activation functions\n",
    "\n",
    "So far we've only been looking at the softmax activation, but in general any function can be used as an activation function. The only requirement is that for a network to approximate a non-linear function, the activation functions must be non-linear. Here are a few more examples of common activation functions: Tanh (hyperbolic tangent), and ReLU (rectified linear unit).\n",
    "\n",
    "<img src=\"assets/activation.png\" width=700px>\n",
    "\n",
    "In practice, the ReLU function is used almost exclusively as the activation function for hidden layers."
   ]
  },
  {
   "cell_type": "markdown",
   "metadata": {},
   "source": [
    "### Your Turn to Build a Network\n",
    "\n",
    "<img src=\"assets/mlp_mnist.png\" width=600px>\n",
    "\n",
    "> **Exercise:** Create a network with 784 input units, a hidden layer with 128 units and a ReLU activation, then a hidden layer with 64 units and a ReLU activation, and finally an output layer with a softmax activation as shown above. You can use a ReLU activation with the `nn.ReLU` module or `F.relu` function."
   ]
  },
  {
   "cell_type": "code",
   "execution_count": 12,
   "metadata": {
    "scrolled": true
   },
   "outputs": [
    {
     "data": {
      "text/plain": [
       "Network(\n",
       "  (fc1): Linear(in_features=784, out_features=128, bias=True)\n",
       "  (fc2): Linear(in_features=128, out_features=64, bias=True)\n",
       "  (fc3): Linear(in_features=64, out_features=10, bias=True)\n",
       ")"
      ]
     },
     "execution_count": 12,
     "metadata": {},
     "output_type": "execute_result"
    }
   ],
   "source": [
    "import torch.nn.functional as F\n",
    "from torch import nn\n",
    "\n",
    "## Your solution here\n",
    "class Network(nn.Module):\n",
    "    def __init__(self):\n",
    "        super().__init__()\n",
    "        #Defining the layers 128,64,10 each\n",
    "        self.fc1 = nn.Linear(784,128)\n",
    "        self.fc2 = nn.Linear(128,64)\n",
    "        # Output Layer\n",
    "        self.fc3 = nn.Linear(64,10)\n",
    "\n",
    "    def forward(self, x):\n",
    "        ''' Forward pass, returns output logits'''\n",
    "        \n",
    "        x = self.fc1(x)\n",
    "        x = F.relu(x)\n",
    "        x = self.fc2(x)\n",
    "        x = F.relu(x)\n",
    "        X = self.fc3(x)\n",
    "        x = F.softmax(x, dim=1)\n",
    "        return x\n",
    "    \n",
    "model = Network()\n",
    "model"
   ]
  },
  {
   "cell_type": "markdown",
   "metadata": {},
   "source": [
    "### Initializing weights and biases\n",
    "\n",
    "The weights and such are automatically initialized for you, but it's possible to customize how they are initialized. The weights and biases are tensors attached to the layer you defined, you can get them with `model.fc1.weight` for instance."
   ]
  },
  {
   "cell_type": "code",
   "execution_count": 13,
   "metadata": {},
   "outputs": [
    {
     "name": "stdout",
     "output_type": "stream",
     "text": [
      "Parameter containing:\n",
      "tensor([[-0.0103,  0.0347, -0.0126,  ..., -0.0278,  0.0014, -0.0060],\n",
      "        [ 0.0219, -0.0073, -0.0272,  ...,  0.0217,  0.0332, -0.0100],\n",
      "        [ 0.0152,  0.0156,  0.0093,  ...,  0.0317,  0.0063, -0.0206],\n",
      "        ...,\n",
      "        [-0.0037, -0.0322,  0.0008,  ..., -0.0269,  0.0288, -0.0300],\n",
      "        [-0.0275, -0.0020,  0.0008,  ...,  0.0233, -0.0054,  0.0156],\n",
      "        [ 0.0089,  0.0186,  0.0346,  ..., -0.0293,  0.0009, -0.0087]],\n",
      "       requires_grad=True)\n",
      "Parameter containing:\n",
      "tensor([ 0.0037, -0.0320, -0.0331,  0.0003, -0.0197, -0.0100,  0.0293, -0.0063,\n",
      "         0.0100,  0.0030, -0.0080, -0.0346, -0.0227,  0.0057,  0.0196, -0.0084,\n",
      "        -0.0287,  0.0354, -0.0277, -0.0233, -0.0309, -0.0177,  0.0218, -0.0220,\n",
      "        -0.0327,  0.0231,  0.0005, -0.0079,  0.0006,  0.0223, -0.0194,  0.0305,\n",
      "        -0.0280,  0.0284, -0.0058,  0.0092,  0.0076,  0.0066,  0.0212,  0.0301,\n",
      "         0.0118,  0.0148,  0.0141, -0.0108,  0.0081, -0.0216, -0.0280,  0.0231,\n",
      "        -0.0293,  0.0354,  0.0237,  0.0111,  0.0339, -0.0260, -0.0138,  0.0034,\n",
      "        -0.0205, -0.0100, -0.0280, -0.0343,  0.0171,  0.0269,  0.0272,  0.0226,\n",
      "         0.0189,  0.0081,  0.0210,  0.0283,  0.0280, -0.0084, -0.0023, -0.0017,\n",
      "         0.0160,  0.0351, -0.0275,  0.0058, -0.0003,  0.0231,  0.0206,  0.0018,\n",
      "         0.0140,  0.0230, -0.0291,  0.0307, -0.0114, -0.0052, -0.0171, -0.0345,\n",
      "         0.0293, -0.0164,  0.0247, -0.0192, -0.0082,  0.0313, -0.0245, -0.0052,\n",
      "         0.0236, -0.0265,  0.0084, -0.0011,  0.0177, -0.0275, -0.0014, -0.0092,\n",
      "         0.0141,  0.0348, -0.0353,  0.0093, -0.0149,  0.0351,  0.0084,  0.0248,\n",
      "         0.0110, -0.0281, -0.0229,  0.0035, -0.0118, -0.0163,  0.0332,  0.0353,\n",
      "         0.0134, -0.0059, -0.0198,  0.0155, -0.0344,  0.0066, -0.0279, -0.0226],\n",
      "       requires_grad=True)\n"
     ]
    }
   ],
   "source": [
    "print(model.fc1.weight)\n",
    "print(model.fc1.bias)"
   ]
  },
  {
   "cell_type": "markdown",
   "metadata": {},
   "source": [
    "For custom initialization, we want to modify these tensors in place. These are actually autograd *Variables*, so we need to get back the actual tensors with `model.fc1.weight.data`. Once we have the tensors, we can fill them with zeros (for biases) or random normal values."
   ]
  },
  {
   "cell_type": "code",
   "execution_count": 14,
   "metadata": {},
   "outputs": [
    {
     "data": {
      "text/plain": [
       "tensor([0., 0., 0., 0., 0., 0., 0., 0., 0., 0., 0., 0., 0., 0., 0., 0., 0., 0.,\n",
       "        0., 0., 0., 0., 0., 0., 0., 0., 0., 0., 0., 0., 0., 0., 0., 0., 0., 0.,\n",
       "        0., 0., 0., 0., 0., 0., 0., 0., 0., 0., 0., 0., 0., 0., 0., 0., 0., 0.,\n",
       "        0., 0., 0., 0., 0., 0., 0., 0., 0., 0., 0., 0., 0., 0., 0., 0., 0., 0.,\n",
       "        0., 0., 0., 0., 0., 0., 0., 0., 0., 0., 0., 0., 0., 0., 0., 0., 0., 0.,\n",
       "        0., 0., 0., 0., 0., 0., 0., 0., 0., 0., 0., 0., 0., 0., 0., 0., 0., 0.,\n",
       "        0., 0., 0., 0., 0., 0., 0., 0., 0., 0., 0., 0., 0., 0., 0., 0., 0., 0.,\n",
       "        0., 0.])"
      ]
     },
     "execution_count": 14,
     "metadata": {},
     "output_type": "execute_result"
    }
   ],
   "source": [
    "# Set biases to all zeros\n",
    "model.fc1.bias.data.fill_(0)"
   ]
  },
  {
   "cell_type": "code",
   "execution_count": 15,
   "metadata": {},
   "outputs": [
    {
     "data": {
      "text/plain": [
       "tensor([[-0.0083, -0.0130,  0.0057,  ...,  0.0033, -0.0064, -0.0014],\n",
       "        [ 0.0100,  0.0007, -0.0104,  ...,  0.0019,  0.0035,  0.0032],\n",
       "        [-0.0043,  0.0081, -0.0105,  ..., -0.0125, -0.0086,  0.0130],\n",
       "        ...,\n",
       "        [-0.0135, -0.0124,  0.0058,  ..., -0.0021, -0.0105, -0.0076],\n",
       "        [-0.0110, -0.0031, -0.0057,  ...,  0.0015, -0.0064, -0.0058],\n",
       "        [ 0.0128, -0.0082, -0.0037,  ..., -0.0155,  0.0196, -0.0057]])"
      ]
     },
     "execution_count": 15,
     "metadata": {},
     "output_type": "execute_result"
    }
   ],
   "source": [
    "# sample from random normal with standard dev = 0.01\n",
    "model.fc1.weight.data.normal_(std=0.01)"
   ]
  },
  {
   "cell_type": "markdown",
   "metadata": {},
   "source": [
    "### Forward pass\n",
    "\n",
    "Now that we have a network, let's see what happens when we pass in an image."
   ]
  },
  {
   "cell_type": "code",
   "execution_count": 16,
   "metadata": {},
   "outputs": [
    {
     "ename": "ValueError",
     "evalue": "shape mismatch: objects cannot be broadcast to a single shape",
     "output_type": "error",
     "traceback": [
      "\u001b[1;31m---------------------------------------------------------------------------\u001b[0m",
      "\u001b[1;31mValueError\u001b[0m                                Traceback (most recent call last)",
      "\u001b[1;32m<ipython-input-16-3760ccc5c3dd>\u001b[0m in \u001b[0;36m<module>\u001b[1;34m\u001b[0m\n\u001b[0;32m     12\u001b[0m \u001b[1;33m\u001b[0m\u001b[0m\n\u001b[0;32m     13\u001b[0m \u001b[0mimg\u001b[0m \u001b[1;33m=\u001b[0m \u001b[0mimages\u001b[0m\u001b[1;33m[\u001b[0m\u001b[0mimg_idx\u001b[0m\u001b[1;33m]\u001b[0m\u001b[1;33m\u001b[0m\u001b[0m\n\u001b[1;32m---> 14\u001b[1;33m \u001b[0mhelper\u001b[0m\u001b[1;33m.\u001b[0m\u001b[0mview_classify\u001b[0m\u001b[1;33m(\u001b[0m\u001b[0mimg\u001b[0m\u001b[1;33m.\u001b[0m\u001b[0mview\u001b[0m\u001b[1;33m(\u001b[0m\u001b[1;36m1\u001b[0m\u001b[1;33m,\u001b[0m \u001b[1;36m28\u001b[0m\u001b[1;33m,\u001b[0m \u001b[1;36m28\u001b[0m\u001b[1;33m)\u001b[0m\u001b[1;33m,\u001b[0m \u001b[0mps\u001b[0m\u001b[1;33m)\u001b[0m\u001b[1;33m\u001b[0m\u001b[0m\n\u001b[0m",
      "\u001b[1;32m~\\OneDrive\\Desktop\\DSND\\DSND_Term1\\lessons\\DeepLearning\\new-intro-to-pytorch\\helper.py\u001b[0m in \u001b[0;36mview_classify\u001b[1;34m(img, ps, version)\u001b[0m\n\u001b[0;32m     73\u001b[0m     \u001b[0max1\u001b[0m\u001b[1;33m.\u001b[0m\u001b[0mimshow\u001b[0m\u001b[1;33m(\u001b[0m\u001b[0mimg\u001b[0m\u001b[1;33m.\u001b[0m\u001b[0mresize_\u001b[0m\u001b[1;33m(\u001b[0m\u001b[1;36m1\u001b[0m\u001b[1;33m,\u001b[0m \u001b[1;36m28\u001b[0m\u001b[1;33m,\u001b[0m \u001b[1;36m28\u001b[0m\u001b[1;33m)\u001b[0m\u001b[1;33m.\u001b[0m\u001b[0mnumpy\u001b[0m\u001b[1;33m(\u001b[0m\u001b[1;33m)\u001b[0m\u001b[1;33m.\u001b[0m\u001b[0msqueeze\u001b[0m\u001b[1;33m(\u001b[0m\u001b[1;33m)\u001b[0m\u001b[1;33m)\u001b[0m\u001b[1;33m\u001b[0m\u001b[0m\n\u001b[0;32m     74\u001b[0m     \u001b[0max1\u001b[0m\u001b[1;33m.\u001b[0m\u001b[0maxis\u001b[0m\u001b[1;33m(\u001b[0m\u001b[1;34m'off'\u001b[0m\u001b[1;33m)\u001b[0m\u001b[1;33m\u001b[0m\u001b[0m\n\u001b[1;32m---> 75\u001b[1;33m     \u001b[0max2\u001b[0m\u001b[1;33m.\u001b[0m\u001b[0mbarh\u001b[0m\u001b[1;33m(\u001b[0m\u001b[0mnp\u001b[0m\u001b[1;33m.\u001b[0m\u001b[0marange\u001b[0m\u001b[1;33m(\u001b[0m\u001b[1;36m10\u001b[0m\u001b[1;33m)\u001b[0m\u001b[1;33m,\u001b[0m \u001b[0mps\u001b[0m\u001b[1;33m)\u001b[0m\u001b[1;33m\u001b[0m\u001b[0m\n\u001b[0m\u001b[0;32m     76\u001b[0m     \u001b[0max2\u001b[0m\u001b[1;33m.\u001b[0m\u001b[0mset_aspect\u001b[0m\u001b[1;33m(\u001b[0m\u001b[1;36m0.1\u001b[0m\u001b[1;33m)\u001b[0m\u001b[1;33m\u001b[0m\u001b[0m\n\u001b[0;32m     77\u001b[0m     \u001b[0max2\u001b[0m\u001b[1;33m.\u001b[0m\u001b[0mset_yticks\u001b[0m\u001b[1;33m(\u001b[0m\u001b[0mnp\u001b[0m\u001b[1;33m.\u001b[0m\u001b[0marange\u001b[0m\u001b[1;33m(\u001b[0m\u001b[1;36m10\u001b[0m\u001b[1;33m)\u001b[0m\u001b[1;33m)\u001b[0m\u001b[1;33m\u001b[0m\u001b[0m\n",
      "\u001b[1;32mC:\\Anaconda3\\envs\\dsnd\\lib\\site-packages\\matplotlib\\axes\\_axes.py\u001b[0m in \u001b[0;36mbarh\u001b[1;34m(self, y, width, height, left, align, **kwargs)\u001b[0m\n\u001b[0;32m   2461\u001b[0m         \u001b[0mkwargs\u001b[0m\u001b[1;33m.\u001b[0m\u001b[0msetdefault\u001b[0m\u001b[1;33m(\u001b[0m\u001b[1;34m'orientation'\u001b[0m\u001b[1;33m,\u001b[0m \u001b[1;34m'horizontal'\u001b[0m\u001b[1;33m)\u001b[0m\u001b[1;33m\u001b[0m\u001b[0m\n\u001b[0;32m   2462\u001b[0m         patches = self.bar(x=left, height=height, width=width, bottom=y,\n\u001b[1;32m-> 2463\u001b[1;33m                            align=align, **kwargs)\n\u001b[0m\u001b[0;32m   2464\u001b[0m         \u001b[1;32mreturn\u001b[0m \u001b[0mpatches\u001b[0m\u001b[1;33m\u001b[0m\u001b[0m\n\u001b[0;32m   2465\u001b[0m \u001b[1;33m\u001b[0m\u001b[0m\n",
      "\u001b[1;32mC:\\Anaconda3\\envs\\dsnd\\lib\\site-packages\\matplotlib\\__init__.py\u001b[0m in \u001b[0;36minner\u001b[1;34m(ax, data, *args, **kwargs)\u001b[0m\n\u001b[0;32m   1808\u001b[0m                         \u001b[1;34m\"the Matplotlib list!)\"\u001b[0m \u001b[1;33m%\u001b[0m \u001b[1;33m(\u001b[0m\u001b[0mlabel_namer\u001b[0m\u001b[1;33m,\u001b[0m \u001b[0mfunc\u001b[0m\u001b[1;33m.\u001b[0m\u001b[0m__name__\u001b[0m\u001b[1;33m)\u001b[0m\u001b[1;33m,\u001b[0m\u001b[1;33m\u001b[0m\u001b[0m\n\u001b[0;32m   1809\u001b[0m                         RuntimeWarning, stacklevel=2)\n\u001b[1;32m-> 1810\u001b[1;33m             \u001b[1;32mreturn\u001b[0m \u001b[0mfunc\u001b[0m\u001b[1;33m(\u001b[0m\u001b[0max\u001b[0m\u001b[1;33m,\u001b[0m \u001b[1;33m*\u001b[0m\u001b[0margs\u001b[0m\u001b[1;33m,\u001b[0m \u001b[1;33m**\u001b[0m\u001b[0mkwargs\u001b[0m\u001b[1;33m)\u001b[0m\u001b[1;33m\u001b[0m\u001b[0m\n\u001b[0m\u001b[0;32m   1811\u001b[0m \u001b[1;33m\u001b[0m\u001b[0m\n\u001b[0;32m   1812\u001b[0m         inner.__doc__ = _add_data_doc(inner.__doc__,\n",
      "\u001b[1;32mC:\\Anaconda3\\envs\\dsnd\\lib\\site-packages\\matplotlib\\axes\\_axes.py\u001b[0m in \u001b[0;36mbar\u001b[1;34m(self, x, height, width, bottom, align, **kwargs)\u001b[0m\n\u001b[0;32m   2249\u001b[0m         x, height, width, y, linewidth = np.broadcast_arrays(\n\u001b[0;32m   2250\u001b[0m             \u001b[1;31m# Make args iterable too.\u001b[0m\u001b[1;33m\u001b[0m\u001b[1;33m\u001b[0m\u001b[0m\n\u001b[1;32m-> 2251\u001b[1;33m             np.atleast_1d(x), height, width, y, linewidth)\n\u001b[0m\u001b[0;32m   2252\u001b[0m \u001b[1;33m\u001b[0m\u001b[0m\n\u001b[0;32m   2253\u001b[0m         \u001b[1;31m# Now that units have been converted, set the tick locations.\u001b[0m\u001b[1;33m\u001b[0m\u001b[1;33m\u001b[0m\u001b[0m\n",
      "\u001b[1;32mC:\\Anaconda3\\envs\\dsnd\\lib\\site-packages\\numpy\\lib\\stride_tricks.py\u001b[0m in \u001b[0;36mbroadcast_arrays\u001b[1;34m(*args, **kwargs)\u001b[0m\n\u001b[0;32m    250\u001b[0m     \u001b[0margs\u001b[0m \u001b[1;33m=\u001b[0m \u001b[1;33m[\u001b[0m\u001b[0mnp\u001b[0m\u001b[1;33m.\u001b[0m\u001b[0marray\u001b[0m\u001b[1;33m(\u001b[0m\u001b[0m_m\u001b[0m\u001b[1;33m,\u001b[0m \u001b[0mcopy\u001b[0m\u001b[1;33m=\u001b[0m\u001b[1;32mFalse\u001b[0m\u001b[1;33m,\u001b[0m \u001b[0msubok\u001b[0m\u001b[1;33m=\u001b[0m\u001b[0msubok\u001b[0m\u001b[1;33m)\u001b[0m \u001b[1;32mfor\u001b[0m \u001b[0m_m\u001b[0m \u001b[1;32min\u001b[0m \u001b[0margs\u001b[0m\u001b[1;33m]\u001b[0m\u001b[1;33m\u001b[0m\u001b[0m\n\u001b[0;32m    251\u001b[0m \u001b[1;33m\u001b[0m\u001b[0m\n\u001b[1;32m--> 252\u001b[1;33m     \u001b[0mshape\u001b[0m \u001b[1;33m=\u001b[0m \u001b[0m_broadcast_shape\u001b[0m\u001b[1;33m(\u001b[0m\u001b[1;33m*\u001b[0m\u001b[0margs\u001b[0m\u001b[1;33m)\u001b[0m\u001b[1;33m\u001b[0m\u001b[0m\n\u001b[0m\u001b[0;32m    253\u001b[0m \u001b[1;33m\u001b[0m\u001b[0m\n\u001b[0;32m    254\u001b[0m     \u001b[1;32mif\u001b[0m \u001b[0mall\u001b[0m\u001b[1;33m(\u001b[0m\u001b[0marray\u001b[0m\u001b[1;33m.\u001b[0m\u001b[0mshape\u001b[0m \u001b[1;33m==\u001b[0m \u001b[0mshape\u001b[0m \u001b[1;32mfor\u001b[0m \u001b[0marray\u001b[0m \u001b[1;32min\u001b[0m \u001b[0margs\u001b[0m\u001b[1;33m)\u001b[0m\u001b[1;33m:\u001b[0m\u001b[1;33m\u001b[0m\u001b[0m\n",
      "\u001b[1;32mC:\\Anaconda3\\envs\\dsnd\\lib\\site-packages\\numpy\\lib\\stride_tricks.py\u001b[0m in \u001b[0;36m_broadcast_shape\u001b[1;34m(*args)\u001b[0m\n\u001b[0;32m    185\u001b[0m     \u001b[1;31m# use the old-iterator because np.nditer does not handle size 0 arrays\u001b[0m\u001b[1;33m\u001b[0m\u001b[1;33m\u001b[0m\u001b[0m\n\u001b[0;32m    186\u001b[0m     \u001b[1;31m# consistently\u001b[0m\u001b[1;33m\u001b[0m\u001b[1;33m\u001b[0m\u001b[0m\n\u001b[1;32m--> 187\u001b[1;33m     \u001b[0mb\u001b[0m \u001b[1;33m=\u001b[0m \u001b[0mnp\u001b[0m\u001b[1;33m.\u001b[0m\u001b[0mbroadcast\u001b[0m\u001b[1;33m(\u001b[0m\u001b[1;33m*\u001b[0m\u001b[0margs\u001b[0m\u001b[1;33m[\u001b[0m\u001b[1;33m:\u001b[0m\u001b[1;36m32\u001b[0m\u001b[1;33m]\u001b[0m\u001b[1;33m)\u001b[0m\u001b[1;33m\u001b[0m\u001b[0m\n\u001b[0m\u001b[0;32m    188\u001b[0m     \u001b[1;31m# unfortunately, it cannot handle 32 or more arguments directly\u001b[0m\u001b[1;33m\u001b[0m\u001b[1;33m\u001b[0m\u001b[0m\n\u001b[0;32m    189\u001b[0m     \u001b[1;32mfor\u001b[0m \u001b[0mpos\u001b[0m \u001b[1;32min\u001b[0m \u001b[0mrange\u001b[0m\u001b[1;33m(\u001b[0m\u001b[1;36m32\u001b[0m\u001b[1;33m,\u001b[0m \u001b[0mlen\u001b[0m\u001b[1;33m(\u001b[0m\u001b[0margs\u001b[0m\u001b[1;33m)\u001b[0m\u001b[1;33m,\u001b[0m \u001b[1;36m31\u001b[0m\u001b[1;33m)\u001b[0m\u001b[1;33m:\u001b[0m\u001b[1;33m\u001b[0m\u001b[0m\n",
      "\u001b[1;31mValueError\u001b[0m: shape mismatch: objects cannot be broadcast to a single shape"
     ]
    },
    {
     "data": {
      "image/png": "[encoded data removed]",
      "text/plain": [
       "<Figure size 432x648 with 2 Axes>"
      ]
     },
     "metadata": {
      "image/png": {
       "height": 523,
       "width": 376
      },
      "needs_background": "light"
     },
     "output_type": "display_data"
    }
   ],
   "source": [
    "# Grab some data \n",
    "dataiter = iter(trainloader)\n",
    "images, labels = dataiter.next()\n",
    "\n",
    "# Resize images into a 1D vector, new shape is (batch size, color channels, image pixels) \n",
    "images.resize_(64, 1, 784)\n",
    "# or images.resize_(images.shape[0], 1, 784) to automatically get batch size\n",
    "\n",
    "# Forward pass through the network\n",
    "img_idx = 0\n",
    "ps = model.forward(images[img_idx,:])\n",
    "\n",
    "img = images[img_idx]\n",
    "helper.view_classify(img.view(1, 28, 28), ps)"
   ]
  },
  {
   "cell_type": "markdown",
   "metadata": {},
   "source": [
    "As you can see above, our network has basically no idea what this digit is. It's because we haven't trained it yet, all the weights are random!\n",
    "\n",
    "### Using `nn.Sequential`\n",
    "\n",
    "PyTorch provides a convenient way to build networks like this where a tensor is passed sequentially through operations, `nn.Sequential` ([documentation](https://pytorch.org/docs/master/nn.html#torch.nn.Sequential)). Using this to build the equivalent network:"
   ]
  },
  {
   "cell_type": "code",
   "execution_count": null,
   "metadata": {},
   "outputs": [],
   "source": [
    "# Hyperparameters for our network\n",
    "input_size = 784\n",
    "hidden_sizes = [128, 64]\n",
    "output_size = 10\n",
    "\n",
    "# Build a feed-forward network\n",
    "model = nn.Sequential(nn.Linear(input_size, hidden_sizes[0]),\n",
    "                      nn.ReLU(),\n",
    "                      nn.Linear(hidden_sizes[0], hidden_sizes[1]),\n",
    "                      nn.ReLU(),\n",
    "                      nn.Linear(hidden_sizes[1], output_size),\n",
    "                      nn.Softmax(dim=1))\n",
    "print(model)\n",
    "\n",
    "# Forward pass through the network and display output\n",
    "images, labels = next(iter(trainloader))\n",
    "images.resize_(images.shape[0], 1, 784)\n",
    "ps = model.forward(images[0,:])\n",
    "helper.view_classify(images[0].view(1, 28, 28), ps)"
   ]
  },
  {
   "cell_type": "markdown",
   "metadata": {},
   "source": [
    "Here our model is the same as before: 784 input units, a hidden layer with 128 units, ReLU activation, 64 unit hidden layer, another ReLU, then the output layer with 10 units, and the softmax output.\n",
    "\n",
    "The operations are availble by passing in the appropriate index. For example, if you want to get first Linear operation and look at the weights, you'd use `model[0]`."
   ]
  },
  {
   "cell_type": "code",
   "execution_count": null,
   "metadata": {},
   "outputs": [],
   "source": [
    "print(model[0])\n",
    "model[0].weight"
   ]
  },
  {
   "cell_type": "markdown",
   "metadata": {},
   "source": [
    "You can also pass in an `OrderedDict` to name the individual layers and operations, instead of using incremental integers. Note that dictionary keys must be unique, so _each operation must have a different name_."
   ]
  },
  {
   "cell_type": "code",
   "execution_count": null,
   "metadata": {},
   "outputs": [],
   "source": [
    "from collections import OrderedDict\n",
    "model = nn.Sequential(OrderedDict([\n",
    "                      ('fc1', nn.Linear(input_size, hidden_sizes[0])),\n",
    "                      ('relu1', nn.ReLU()),\n",
    "                      ('fc2', nn.Linear(hidden_sizes[0], hidden_sizes[1])),\n",
    "                      ('relu2', nn.ReLU()),\n",
    "                      ('output', nn.Linear(hidden_sizes[1], output_size)),\n",
    "                      ('softmax', nn.Softmax(dim=1))]))\n",
    "model"
   ]
  },
  {
   "cell_type": "markdown",
   "metadata": {},
   "source": [
    "Now you can access layers either by integer or the name"
   ]
  },
  {
   "cell_type": "code",
   "execution_count": null,
   "metadata": {},
   "outputs": [],
   "source": [
    "print(model[0])\n",
    "print(model.fc1)"
   ]
  },
  {
   "cell_type": "markdown",
   "metadata": {},
   "source": [
    "In the next notebook, we'll see how we can train a neural network to accuractly predict the numbers appearing in the MNIST images."
   ]
  }
 ],
 "metadata": {
  "kernelspec": {
   "display_name": "Python 3",
   "language": "python",
   "name": "python3"
  },
  "language_info": {
   "codemirror_mode": {
    "name": "ipython",
    "version": 3
   },
   "file_extension": ".py",
   "mimetype": "text/x-python",
   "name": "python",
   "nbconvert_exporter": "python",
   "pygments_lexer": "ipython3",
   "version": "3.6.6"
  }
 },
 "nbformat": 4,
 "nbformat_minor": 2
}
